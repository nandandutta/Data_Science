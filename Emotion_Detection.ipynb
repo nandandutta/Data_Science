{
 "cells": [
  {
   "cell_type": "code",
   "execution_count": 7,
   "metadata": {},
   "outputs": [],
   "source": [
    "import sys, os\n",
    "import pandas as pd\n",
    "import numpy as np\n",
    "\n",
    "from keras.models import Sequential\n",
    "from keras.layers import Dense, Dropout, Activation, Flatten\n",
    "from keras.layers import Conv2D, MaxPooling2D, BatchNormalization,AveragePooling2D\n",
    "from keras.losses import categorical_crossentropy\n",
    "from keras.optimizers import Adam\n",
    "from keras.regularizers import l2\n",
    "from keras.utils import np_utils"
   ]
  },
  {
   "cell_type": "code",
   "execution_count": 8,
   "metadata": {},
   "outputs": [],
   "source": [
    "# Data Source - https://www.kaggle.com/nicolejyt/facialexpressionrecognition\n",
    "df=pd.read_csv('fer2013.csv')"
   ]
  },
  {
   "cell_type": "code",
   "execution_count": 9,
   "metadata": {},
   "outputs": [
    {
     "name": "stdout",
     "output_type": "stream",
     "text": [
      "<class 'pandas.core.frame.DataFrame'>\n",
      "RangeIndex: 35887 entries, 0 to 35886\n",
      "Data columns (total 3 columns):\n",
      "emotion    35887 non-null int64\n",
      "pixels     35887 non-null object\n",
      "Usage      35887 non-null object\n",
      "dtypes: int64(1), object(2)\n",
      "memory usage: 841.2+ KB\n",
      "None\n",
      "Training       28709\n",
      "PrivateTest     3589\n",
      "PublicTest      3589\n",
      "Name: Usage, dtype: int64\n"
     ]
    }
   ],
   "source": [
    "print(df.info())\n",
    "print(df[\"Usage\"].value_counts())"
   ]
  },
  {
   "cell_type": "code",
   "execution_count": 10,
   "metadata": {},
   "outputs": [],
   "source": [
    "X_train,train_y,X_test,test_y=[],[],[],[]\n",
    "\n",
    "for index, row in df.iterrows():\n",
    "    val=row['pixels'].split(\" \")\n",
    "    try:\n",
    "        if 'Training' in row['Usage']:\n",
    "           X_train.append(np.array(val,'float32'))\n",
    "           train_y.append(row['emotion'])\n",
    "        elif 'PublicTest' in row['Usage']:\n",
    "           X_test.append(np.array(val,'float32'))\n",
    "           test_y.append(row['emotion'])\n",
    "    except:\n",
    "        print(f\"error occured at index :{index} and row:{row}\")"
   ]
  },
  {
   "cell_type": "code",
   "execution_count": 11,
   "metadata": {},
   "outputs": [],
   "source": [
    "num_features = 64\n",
    "num_labels = 7\n",
    "batch_size = 64\n",
    "epochs = 30\n",
    "width, height = 48, 48\n",
    "\n",
    "\n",
    "X_train = np.array(X_train,'float32')\n",
    "train_y = np.array(train_y,'float32')\n",
    "X_test = np.array(X_test,'float32')\n",
    "test_y = np.array(test_y,'float32')\n",
    "\n",
    "train_y=np_utils.to_categorical(train_y, num_classes=num_labels)\n",
    "test_y=np_utils.to_categorical(test_y, num_classes=num_labels)"
   ]
  },
  {
   "cell_type": "code",
   "execution_count": 12,
   "metadata": {},
   "outputs": [],
   "source": [
    "#normalizing data between oand 1\n",
    "X_train -= np.mean(X_train, axis=0)\n",
    "X_train /= np.std(X_train, axis=0)\n",
    "\n",
    "X_test -= np.mean(X_test, axis=0)\n",
    "X_test /= np.std(X_test, axis=0)\n",
    "\n",
    "X_train = X_train.reshape(X_train.shape[0], 48, 48, 1)\n",
    "\n",
    "X_test = X_test.reshape(X_test.shape[0], 48, 48, 1)"
   ]
  },
  {
   "cell_type": "code",
   "execution_count": 13,
   "metadata": {},
   "outputs": [
    {
     "name": "stderr",
     "output_type": "stream",
     "text": [
      "WARNING: Logging before flag parsing goes to stderr.\n",
      "W0605 14:32:45.755956 17532 deprecation_wrapper.py:119] From C:\\Users\\Administrator\\.conda\\envs\\tensorflow\\lib\\site-packages\\keras\\backend\\tensorflow_backend.py:74: The name tf.get_default_graph is deprecated. Please use tf.compat.v1.get_default_graph instead.\n",
      "\n",
      "W0605 14:32:46.504855 17532 deprecation_wrapper.py:119] From C:\\Users\\Administrator\\.conda\\envs\\tensorflow\\lib\\site-packages\\keras\\backend\\tensorflow_backend.py:517: The name tf.placeholder is deprecated. Please use tf.compat.v1.placeholder instead.\n",
      "\n",
      "W0605 14:32:47.801481 17532 deprecation_wrapper.py:119] From C:\\Users\\Administrator\\.conda\\envs\\tensorflow\\lib\\site-packages\\keras\\backend\\tensorflow_backend.py:4138: The name tf.random_uniform is deprecated. Please use tf.random.uniform instead.\n",
      "\n",
      "W0605 14:32:48.229079 17532 deprecation_wrapper.py:119] From C:\\Users\\Administrator\\.conda\\envs\\tensorflow\\lib\\site-packages\\keras\\backend\\tensorflow_backend.py:3976: The name tf.nn.max_pool is deprecated. Please use tf.nn.max_pool2d instead.\n",
      "\n",
      "W0605 14:32:48.255089 17532 deprecation_wrapper.py:119] From C:\\Users\\Administrator\\.conda\\envs\\tensorflow\\lib\\site-packages\\keras\\backend\\tensorflow_backend.py:133: The name tf.placeholder_with_default is deprecated. Please use tf.compat.v1.placeholder_with_default instead.\n",
      "\n",
      "W0605 14:32:48.306081 17532 deprecation.py:506] From C:\\Users\\Administrator\\.conda\\envs\\tensorflow\\lib\\site-packages\\keras\\backend\\tensorflow_backend.py:3445: calling dropout (from tensorflow.python.ops.nn_ops) with keep_prob is deprecated and will be removed in a future version.\n",
      "Instructions for updating:\n",
      "Please use `rate` instead of `keep_prob`. Rate should be set to `rate = 1 - keep_prob`.\n"
     ]
    }
   ],
   "source": [
    "##designing the cnn\n",
    "#1st convolution layer\n",
    "model = Sequential()\n",
    "\n",
    "model.add(Conv2D(64, kernel_size=(3, 3), activation='relu', input_shape=(X_train.shape[1:])))\n",
    "model.add(Conv2D(64,kernel_size= (3, 3), activation='relu'))\n",
    "# model.add(BatchNormalization())\n",
    "model.add(MaxPooling2D(pool_size=(2,2), strides=(2, 2)))\n",
    "model.add(Dropout(0.5))"
   ]
  },
  {
   "cell_type": "code",
   "execution_count": 14,
   "metadata": {},
   "outputs": [],
   "source": [
    "#2nd convolution layer\n",
    "model.add(Conv2D(64, (3, 3), activation='relu'))\n",
    "model.add(Conv2D(64, (3, 3), activation='relu'))\n",
    "# model.add(BatchNormalization())\n",
    "model.add(MaxPooling2D(pool_size=(2,2), strides=(2, 2)))\n",
    "model.add(Dropout(0.5))"
   ]
  },
  {
   "cell_type": "code",
   "execution_count": 15,
   "metadata": {},
   "outputs": [],
   "source": [
    "#3rd convolution layer\n",
    "model.add(Conv2D(128, (3, 3), activation='relu'))\n",
    "model.add(Conv2D(128, (3, 3), activation='relu'))\n",
    "# model.add(BatchNormalization())\n",
    "model.add(MaxPooling2D(pool_size=(2,2), strides=(2, 2)))"
   ]
  },
  {
   "cell_type": "code",
   "execution_count": 16,
   "metadata": {},
   "outputs": [],
   "source": [
    "model.add(Flatten())"
   ]
  },
  {
   "cell_type": "code",
   "execution_count": 17,
   "metadata": {},
   "outputs": [],
   "source": [
    "#fully connected neural networks\n",
    "model.add(Dense(1024, activation='relu'))\n",
    "model.add(Dropout(0.2))\n",
    "model.add(Dense(1024, activation='relu'))\n",
    "model.add(Dropout(0.2))"
   ]
  },
  {
   "cell_type": "code",
   "execution_count": 18,
   "metadata": {},
   "outputs": [],
   "source": [
    "model.add(Dense(num_labels, activation='softmax'))"
   ]
  },
  {
   "cell_type": "code",
   "execution_count": 19,
   "metadata": {},
   "outputs": [
    {
     "name": "stderr",
     "output_type": "stream",
     "text": [
      "W0605 14:34:29.236989 17532 deprecation_wrapper.py:119] From C:\\Users\\Administrator\\.conda\\envs\\tensorflow\\lib\\site-packages\\keras\\optimizers.py:790: The name tf.train.Optimizer is deprecated. Please use tf.compat.v1.train.Optimizer instead.\n",
      "\n",
      "W0605 14:34:29.248983 17532 deprecation_wrapper.py:119] From C:\\Users\\Administrator\\.conda\\envs\\tensorflow\\lib\\site-packages\\keras\\backend\\tensorflow_backend.py:3295: The name tf.log is deprecated. Please use tf.math.log instead.\n",
      "\n"
     ]
    }
   ],
   "source": [
    "# model.summary()\n",
    "\n",
    "#Compliling the model\n",
    "model.compile(loss=categorical_crossentropy,\n",
    "              optimizer=Adam(),\n",
    "              metrics=['accuracy'])"
   ]
  },
  {
   "cell_type": "code",
   "execution_count": 20,
   "metadata": {},
   "outputs": [
    {
     "name": "stderr",
     "output_type": "stream",
     "text": [
      "W0605 14:34:40.455998 17532 deprecation.py:323] From C:\\Users\\Administrator\\.conda\\envs\\tensorflow\\lib\\site-packages\\tensorflow\\python\\ops\\math_grad.py:1250: add_dispatch_support.<locals>.wrapper (from tensorflow.python.ops.array_ops) is deprecated and will be removed in a future version.\n",
      "Instructions for updating:\n",
      "Use tf.where in 2.0, which has the same broadcast rule as np.where\n"
     ]
    },
    {
     "name": "stdout",
     "output_type": "stream",
     "text": [
      "Train on 28709 samples, validate on 3589 samples\n",
      "Epoch 1/30\n",
      "28709/28709 [==============================] - 525s 18ms/step - loss: 1.7450 - acc: 0.2820 - val_loss: 1.5893 - val_acc: 0.3745\n",
      "Epoch 2/30\n",
      "28709/28709 [==============================] - 679s 24ms/step - loss: 1.5332 - acc: 0.3962 - val_loss: 1.4234 - val_acc: 0.4377\n",
      "Epoch 3/30\n",
      "28709/28709 [==============================] - 471s 16ms/step - loss: 1.4189 - acc: 0.4486 - val_loss: 1.3311 - val_acc: 0.4812\n",
      "Epoch 4/30\n",
      "28709/28709 [==============================] - 479s 17ms/step - loss: 1.3561 - acc: 0.4730 - val_loss: 1.3053 - val_acc: 0.4912\n",
      "Epoch 5/30\n",
      "28709/28709 [==============================] - 468s 16ms/step - loss: 1.3125 - acc: 0.4958 - val_loss: 1.2593 - val_acc: 0.5185\n",
      "Epoch 6/30\n",
      "28709/28709 [==============================] - 464s 16ms/step - loss: 1.2705 - acc: 0.5103 - val_loss: 1.2470 - val_acc: 0.5238\n",
      "Epoch 7/30\n",
      "28709/28709 [==============================] - 467s 16ms/step - loss: 1.2411 - acc: 0.5236 - val_loss: 1.2299 - val_acc: 0.5316\n",
      "Epoch 8/30\n",
      "28709/28709 [==============================] - 471s 16ms/step - loss: 1.2166 - acc: 0.5342 - val_loss: 1.2425 - val_acc: 0.5266\n",
      "Epoch 9/30\n",
      "28709/28709 [==============================] - 464s 16ms/step - loss: 1.1917 - acc: 0.5423 - val_loss: 1.1906 - val_acc: 0.5520\n",
      "Epoch 10/30\n",
      "28709/28709 [==============================] - 463s 16ms/step - loss: 1.1626 - acc: 0.5534 - val_loss: 1.2182 - val_acc: 0.5386\n",
      "Epoch 11/30\n",
      "28709/28709 [==============================] - 463s 16ms/step - loss: 1.1426 - acc: 0.5628 - val_loss: 1.1846 - val_acc: 0.5550\n",
      "Epoch 12/30\n",
      "28709/28709 [==============================] - 501s 17ms/step - loss: 1.1277 - acc: 0.5665 - val_loss: 1.1826 - val_acc: 0.5536\n",
      "Epoch 13/30\n",
      "28709/28709 [==============================] - 465s 16ms/step - loss: 1.1053 - acc: 0.5782 - val_loss: 1.1637 - val_acc: 0.5564\n",
      "Epoch 14/30\n",
      "28709/28709 [==============================] - 466s 16ms/step - loss: 1.0856 - acc: 0.5824 - val_loss: 1.1629 - val_acc: 0.5575\n",
      "Epoch 15/30\n",
      "28709/28709 [==============================] - 461s 16ms/step - loss: 1.0657 - acc: 0.5923 - val_loss: 1.1530 - val_acc: 0.5631\n",
      "Epoch 16/30\n",
      "28709/28709 [==============================] - 462s 16ms/step - loss: 1.0490 - acc: 0.6009 - val_loss: 1.1629 - val_acc: 0.5587\n",
      "Epoch 17/30\n",
      "28709/28709 [==============================] - 477s 17ms/step - loss: 1.0309 - acc: 0.6038 - val_loss: 1.1767 - val_acc: 0.5584\n",
      "Epoch 18/30\n",
      "28709/28709 [==============================] - 445s 16ms/step - loss: 1.0091 - acc: 0.6149 - val_loss: 1.1668 - val_acc: 0.5731\n",
      "Epoch 19/30\n",
      "28709/28709 [==============================] - 474s 17ms/step - loss: 0.9984 - acc: 0.6156 - val_loss: 1.1675 - val_acc: 0.5698\n",
      "Epoch 20/30\n",
      "28709/28709 [==============================] - 467s 16ms/step - loss: 0.9779 - acc: 0.6277 - val_loss: 1.1690 - val_acc: 0.5639\n",
      "Epoch 21/30\n",
      "28709/28709 [==============================] - 460s 16ms/step - loss: 0.9557 - acc: 0.6363 - val_loss: 1.2107 - val_acc: 0.5578\n",
      "Epoch 22/30\n",
      "28709/28709 [==============================] - 461s 16ms/step - loss: 0.9479 - acc: 0.6400 - val_loss: 1.1973 - val_acc: 0.5692\n",
      "Epoch 23/30\n",
      "28709/28709 [==============================] - 463s 16ms/step - loss: 0.9283 - acc: 0.6476 - val_loss: 1.1955 - val_acc: 0.5687\n",
      "Epoch 24/30\n",
      "28709/28709 [==============================] - 460s 16ms/step - loss: 0.9151 - acc: 0.6551 - val_loss: 1.2107 - val_acc: 0.5628\n",
      "Epoch 25/30\n",
      "28709/28709 [==============================] - 459s 16ms/step - loss: 0.8982 - acc: 0.6553 - val_loss: 1.2018 - val_acc: 0.5570\n",
      "Epoch 26/30\n",
      "28709/28709 [==============================] - 460s 16ms/step - loss: 0.8842 - acc: 0.6641 - val_loss: 1.2057 - val_acc: 0.5698\n",
      "Epoch 27/30\n",
      "28709/28709 [==============================] - 461s 16ms/step - loss: 0.8705 - acc: 0.6699 - val_loss: 1.2070 - val_acc: 0.5698\n",
      "Epoch 28/30\n",
      "28709/28709 [==============================] - 458s 16ms/step - loss: 0.8617 - acc: 0.6721 - val_loss: 1.2025 - val_acc: 0.5729\n",
      "Epoch 29/30\n",
      "28709/28709 [==============================] - 460s 16ms/step - loss: 0.8469 - acc: 0.6805 - val_loss: 1.2106 - val_acc: 0.5662\n",
      "Epoch 30/30\n",
      "28709/28709 [==============================] - 460s 16ms/step - loss: 0.8364 - acc: 0.6819 - val_loss: 1.2119 - val_acc: 0.5720\n"
     ]
    },
    {
     "data": {
      "text/plain": [
       "<keras.callbacks.History at 0x2891fc18208>"
      ]
     },
     "execution_count": 20,
     "metadata": {},
     "output_type": "execute_result"
    }
   ],
   "source": [
    "#Training the model\n",
    "model.fit(X_train, train_y,\n",
    "          batch_size=batch_size,\n",
    "          epochs=epochs,\n",
    "          verbose=1,\n",
    "          validation_data=(X_test, test_y),\n",
    "          shuffle=True)"
   ]
  },
  {
   "cell_type": "code",
   "execution_count": 21,
   "metadata": {},
   "outputs": [],
   "source": [
    "#Saving the  model to  use it later on\n",
    "emotion_json = model.to_json()\n",
    "with open(\"emotion.json\", \"w\") as json_file:\n",
    "    json_file.write(emotion_json)\n",
    "model.save_weights(\"emotion.h5\")"
   ]
  }
 ],
 "metadata": {
  "kernelspec": {
   "display_name": "Python 3",
   "language": "python",
   "name": "python3"
  },
  "language_info": {
   "codemirror_mode": {
    "name": "ipython",
    "version": 3
   },
   "file_extension": ".py",
   "mimetype": "text/x-python",
   "name": "python",
   "nbconvert_exporter": "python",
   "pygments_lexer": "ipython3",
   "version": "3.7.3"
  }
 },
 "nbformat": 4,
 "nbformat_minor": 2
}
