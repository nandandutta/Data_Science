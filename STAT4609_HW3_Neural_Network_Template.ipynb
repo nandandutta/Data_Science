{
  "nbformat": 4,
  "nbformat_minor": 0,
  "metadata": {
    "colab": {
      "name": "STAT4609-HW3 Neural Network Template.ipynb",
      "provenance": [],
      "collapsed_sections": [],
      "include_colab_link": true
    },
    "kernelspec": {
      "name": "python3",
      "display_name": "Python 3"
    },
    "widgets": {
      "application/vnd.jupyter.widget-state+json": {
        "2785010a3dca498f8a340bcdc31c289d": {
          "model_module": "@jupyter-widgets/controls",
          "model_name": "HBoxModel",
          "state": {
            "_view_name": "HBoxView",
            "_dom_classes": [],
            "_model_name": "HBoxModel",
            "_view_module": "@jupyter-widgets/controls",
            "_model_module_version": "1.5.0",
            "_view_count": null,
            "_view_module_version": "1.5.0",
            "box_style": "",
            "layout": "IPY_MODEL_0ad62a62bb3941bbad60fd2b5150d89f",
            "_model_module": "@jupyter-widgets/controls",
            "children": [
              "IPY_MODEL_a7803dea0a494805acdf448a3937f6b2",
              "IPY_MODEL_0bda565785564b03bb66e246aea381a6"
            ]
          }
        },
        "0ad62a62bb3941bbad60fd2b5150d89f": {
          "model_module": "@jupyter-widgets/base",
          "model_name": "LayoutModel",
          "state": {
            "_view_name": "LayoutView",
            "grid_template_rows": null,
            "right": null,
            "justify_content": null,
            "_view_module": "@jupyter-widgets/base",
            "overflow": null,
            "_model_module_version": "1.2.0",
            "_view_count": null,
            "flex_flow": null,
            "width": null,
            "min_width": null,
            "border": null,
            "align_items": null,
            "bottom": null,
            "_model_module": "@jupyter-widgets/base",
            "top": null,
            "grid_column": null,
            "overflow_y": null,
            "overflow_x": null,
            "grid_auto_flow": null,
            "grid_area": null,
            "grid_template_columns": null,
            "flex": null,
            "_model_name": "LayoutModel",
            "justify_items": null,
            "grid_row": null,
            "max_height": null,
            "align_content": null,
            "visibility": null,
            "align_self": null,
            "height": null,
            "min_height": null,
            "padding": null,
            "grid_auto_rows": null,
            "grid_gap": null,
            "max_width": null,
            "order": null,
            "_view_module_version": "1.2.0",
            "grid_template_areas": null,
            "object_position": null,
            "object_fit": null,
            "grid_auto_columns": null,
            "margin": null,
            "display": null,
            "left": null
          }
        },
        "a7803dea0a494805acdf448a3937f6b2": {
          "model_module": "@jupyter-widgets/controls",
          "model_name": "FloatProgressModel",
          "state": {
            "_view_name": "ProgressView",
            "style": "IPY_MODEL_c1b9413875d1491fba701b2d8acda8de",
            "_dom_classes": [],
            "description": "",
            "_model_name": "FloatProgressModel",
            "bar_style": "success",
            "max": 18165135,
            "_view_module": "@jupyter-widgets/controls",
            "_model_module_version": "1.5.0",
            "value": 18165135,
            "_view_count": null,
            "_view_module_version": "1.5.0",
            "orientation": "horizontal",
            "min": 0,
            "description_tooltip": null,
            "_model_module": "@jupyter-widgets/controls",
            "layout": "IPY_MODEL_51c841a7e7254312bce1fd2428b832d2"
          }
        },
        "0bda565785564b03bb66e246aea381a6": {
          "model_module": "@jupyter-widgets/controls",
          "model_name": "HTMLModel",
          "state": {
            "_view_name": "HTMLView",
            "style": "IPY_MODEL_2c241020a9174462b410779647351f28",
            "_dom_classes": [],
            "description": "",
            "_model_name": "HTMLModel",
            "placeholder": "​",
            "_view_module": "@jupyter-widgets/controls",
            "_model_module_version": "1.5.0",
            "value": " 18165760/? [00:02&lt;00:00, 6058882.04it/s]",
            "_view_count": null,
            "_view_module_version": "1.5.0",
            "description_tooltip": null,
            "_model_module": "@jupyter-widgets/controls",
            "layout": "IPY_MODEL_3648f7b99ee34fe8bc94041c4c28a497"
          }
        },
        "c1b9413875d1491fba701b2d8acda8de": {
          "model_module": "@jupyter-widgets/controls",
          "model_name": "ProgressStyleModel",
          "state": {
            "_view_name": "StyleView",
            "_model_name": "ProgressStyleModel",
            "description_width": "initial",
            "_view_module": "@jupyter-widgets/base",
            "_model_module_version": "1.5.0",
            "_view_count": null,
            "_view_module_version": "1.2.0",
            "bar_color": null,
            "_model_module": "@jupyter-widgets/controls"
          }
        },
        "51c841a7e7254312bce1fd2428b832d2": {
          "model_module": "@jupyter-widgets/base",
          "model_name": "LayoutModel",
          "state": {
            "_view_name": "LayoutView",
            "grid_template_rows": null,
            "right": null,
            "justify_content": null,
            "_view_module": "@jupyter-widgets/base",
            "overflow": null,
            "_model_module_version": "1.2.0",
            "_view_count": null,
            "flex_flow": null,
            "width": null,
            "min_width": null,
            "border": null,
            "align_items": null,
            "bottom": null,
            "_model_module": "@jupyter-widgets/base",
            "top": null,
            "grid_column": null,
            "overflow_y": null,
            "overflow_x": null,
            "grid_auto_flow": null,
            "grid_area": null,
            "grid_template_columns": null,
            "flex": null,
            "_model_name": "LayoutModel",
            "justify_items": null,
            "grid_row": null,
            "max_height": null,
            "align_content": null,
            "visibility": null,
            "align_self": null,
            "height": null,
            "min_height": null,
            "padding": null,
            "grid_auto_rows": null,
            "grid_gap": null,
            "max_width": null,
            "order": null,
            "_view_module_version": "1.2.0",
            "grid_template_areas": null,
            "object_position": null,
            "object_fit": null,
            "grid_auto_columns": null,
            "margin": null,
            "display": null,
            "left": null
          }
        },
        "2c241020a9174462b410779647351f28": {
          "model_module": "@jupyter-widgets/controls",
          "model_name": "DescriptionStyleModel",
          "state": {
            "_view_name": "StyleView",
            "_model_name": "DescriptionStyleModel",
            "description_width": "",
            "_view_module": "@jupyter-widgets/base",
            "_model_module_version": "1.5.0",
            "_view_count": null,
            "_view_module_version": "1.2.0",
            "_model_module": "@jupyter-widgets/controls"
          }
        },
        "3648f7b99ee34fe8bc94041c4c28a497": {
          "model_module": "@jupyter-widgets/base",
          "model_name": "LayoutModel",
          "state": {
            "_view_name": "LayoutView",
            "grid_template_rows": null,
            "right": null,
            "justify_content": null,
            "_view_module": "@jupyter-widgets/base",
            "overflow": null,
            "_model_module_version": "1.2.0",
            "_view_count": null,
            "flex_flow": null,
            "width": null,
            "min_width": null,
            "border": null,
            "align_items": null,
            "bottom": null,
            "_model_module": "@jupyter-widgets/base",
            "top": null,
            "grid_column": null,
            "overflow_y": null,
            "overflow_x": null,
            "grid_auto_flow": null,
            "grid_area": null,
            "grid_template_columns": null,
            "flex": null,
            "_model_name": "LayoutModel",
            "justify_items": null,
            "grid_row": null,
            "max_height": null,
            "align_content": null,
            "visibility": null,
            "align_self": null,
            "height": null,
            "min_height": null,
            "padding": null,
            "grid_auto_rows": null,
            "grid_gap": null,
            "max_width": null,
            "order": null,
            "_view_module_version": "1.2.0",
            "grid_template_areas": null,
            "object_position": null,
            "object_fit": null,
            "grid_auto_columns": null,
            "margin": null,
            "display": null,
            "left": null
          }
        },
        "7e7d681c03794222b52b38e5868db592": {
          "model_module": "@jupyter-widgets/controls",
          "model_name": "HBoxModel",
          "state": {
            "_view_name": "HBoxView",
            "_dom_classes": [],
            "_model_name": "HBoxModel",
            "_view_module": "@jupyter-widgets/controls",
            "_model_module_version": "1.5.0",
            "_view_count": null,
            "_view_module_version": "1.5.0",
            "box_style": "",
            "layout": "IPY_MODEL_3e7cd90b8cd34d1c9361f86b7e35ef81",
            "_model_module": "@jupyter-widgets/controls",
            "children": [
              "IPY_MODEL_b890e432e4ea4528ad660ed305a6665c",
              "IPY_MODEL_4d04999eda65481f9f1479246b636bc5"
            ]
          }
        },
        "3e7cd90b8cd34d1c9361f86b7e35ef81": {
          "model_module": "@jupyter-widgets/base",
          "model_name": "LayoutModel",
          "state": {
            "_view_name": "LayoutView",
            "grid_template_rows": null,
            "right": null,
            "justify_content": null,
            "_view_module": "@jupyter-widgets/base",
            "overflow": null,
            "_model_module_version": "1.2.0",
            "_view_count": null,
            "flex_flow": null,
            "width": null,
            "min_width": null,
            "border": null,
            "align_items": null,
            "bottom": null,
            "_model_module": "@jupyter-widgets/base",
            "top": null,
            "grid_column": null,
            "overflow_y": null,
            "overflow_x": null,
            "grid_auto_flow": null,
            "grid_area": null,
            "grid_template_columns": null,
            "flex": null,
            "_model_name": "LayoutModel",
            "justify_items": null,
            "grid_row": null,
            "max_height": null,
            "align_content": null,
            "visibility": null,
            "align_self": null,
            "height": null,
            "min_height": null,
            "padding": null,
            "grid_auto_rows": null,
            "grid_gap": null,
            "max_width": null,
            "order": null,
            "_view_module_version": "1.2.0",
            "grid_template_areas": null,
            "object_position": null,
            "object_fit": null,
            "grid_auto_columns": null,
            "margin": null,
            "display": null,
            "left": null
          }
        },
        "b890e432e4ea4528ad660ed305a6665c": {
          "model_module": "@jupyter-widgets/controls",
          "model_name": "FloatProgressModel",
          "state": {
            "_view_name": "ProgressView",
            "style": "IPY_MODEL_b55a68d4c2a44d62b5a11ad526cc5aea",
            "_dom_classes": [],
            "description": "",
            "_model_name": "FloatProgressModel",
            "bar_style": "success",
            "max": 29497,
            "_view_module": "@jupyter-widgets/controls",
            "_model_module_version": "1.5.0",
            "value": 29497,
            "_view_count": null,
            "_view_module_version": "1.5.0",
            "orientation": "horizontal",
            "min": 0,
            "description_tooltip": null,
            "_model_module": "@jupyter-widgets/controls",
            "layout": "IPY_MODEL_6dd90cda5360423398e380ae8072fe62"
          }
        },
        "4d04999eda65481f9f1479246b636bc5": {
          "model_module": "@jupyter-widgets/controls",
          "model_name": "HTMLModel",
          "state": {
            "_view_name": "HTMLView",
            "style": "IPY_MODEL_3a9171f0e7ec43dc9f2a49a874ccf83f",
            "_dom_classes": [],
            "description": "",
            "_model_name": "HTMLModel",
            "placeholder": "​",
            "_view_module": "@jupyter-widgets/controls",
            "_model_module_version": "1.5.0",
            "value": " 29696/? [01:34&lt;00:00, 314.24it/s]",
            "_view_count": null,
            "_view_module_version": "1.5.0",
            "description_tooltip": null,
            "_model_module": "@jupyter-widgets/controls",
            "layout": "IPY_MODEL_1ef16f77883b4b16bf28ca98219c2969"
          }
        },
        "b55a68d4c2a44d62b5a11ad526cc5aea": {
          "model_module": "@jupyter-widgets/controls",
          "model_name": "ProgressStyleModel",
          "state": {
            "_view_name": "StyleView",
            "_model_name": "ProgressStyleModel",
            "description_width": "initial",
            "_view_module": "@jupyter-widgets/base",
            "_model_module_version": "1.5.0",
            "_view_count": null,
            "_view_module_version": "1.2.0",
            "bar_color": null,
            "_model_module": "@jupyter-widgets/controls"
          }
        },
        "6dd90cda5360423398e380ae8072fe62": {
          "model_module": "@jupyter-widgets/base",
          "model_name": "LayoutModel",
          "state": {
            "_view_name": "LayoutView",
            "grid_template_rows": null,
            "right": null,
            "justify_content": null,
            "_view_module": "@jupyter-widgets/base",
            "overflow": null,
            "_model_module_version": "1.2.0",
            "_view_count": null,
            "flex_flow": null,
            "width": null,
            "min_width": null,
            "border": null,
            "align_items": null,
            "bottom": null,
            "_model_module": "@jupyter-widgets/base",
            "top": null,
            "grid_column": null,
            "overflow_y": null,
            "overflow_x": null,
            "grid_auto_flow": null,
            "grid_area": null,
            "grid_template_columns": null,
            "flex": null,
            "_model_name": "LayoutModel",
            "justify_items": null,
            "grid_row": null,
            "max_height": null,
            "align_content": null,
            "visibility": null,
            "align_self": null,
            "height": null,
            "min_height": null,
            "padding": null,
            "grid_auto_rows": null,
            "grid_gap": null,
            "max_width": null,
            "order": null,
            "_view_module_version": "1.2.0",
            "grid_template_areas": null,
            "object_position": null,
            "object_fit": null,
            "grid_auto_columns": null,
            "margin": null,
            "display": null,
            "left": null
          }
        },
        "3a9171f0e7ec43dc9f2a49a874ccf83f": {
          "model_module": "@jupyter-widgets/controls",
          "model_name": "DescriptionStyleModel",
          "state": {
            "_view_name": "StyleView",
            "_model_name": "DescriptionStyleModel",
            "description_width": "",
            "_view_module": "@jupyter-widgets/base",
            "_model_module_version": "1.5.0",
            "_view_count": null,
            "_view_module_version": "1.2.0",
            "_model_module": "@jupyter-widgets/controls"
          }
        },
        "1ef16f77883b4b16bf28ca98219c2969": {
          "model_module": "@jupyter-widgets/base",
          "model_name": "LayoutModel",
          "state": {
            "_view_name": "LayoutView",
            "grid_template_rows": null,
            "right": null,
            "justify_content": null,
            "_view_module": "@jupyter-widgets/base",
            "overflow": null,
            "_model_module_version": "1.2.0",
            "_view_count": null,
            "flex_flow": null,
            "width": null,
            "min_width": null,
            "border": null,
            "align_items": null,
            "bottom": null,
            "_model_module": "@jupyter-widgets/base",
            "top": null,
            "grid_column": null,
            "overflow_y": null,
            "overflow_x": null,
            "grid_auto_flow": null,
            "grid_area": null,
            "grid_template_columns": null,
            "flex": null,
            "_model_name": "LayoutModel",
            "justify_items": null,
            "grid_row": null,
            "max_height": null,
            "align_content": null,
            "visibility": null,
            "align_self": null,
            "height": null,
            "min_height": null,
            "padding": null,
            "grid_auto_rows": null,
            "grid_gap": null,
            "max_width": null,
            "order": null,
            "_view_module_version": "1.2.0",
            "grid_template_areas": null,
            "object_position": null,
            "object_fit": null,
            "grid_auto_columns": null,
            "margin": null,
            "display": null,
            "left": null
          }
        },
        "81d1455da0b6474dae640f1276486eda": {
          "model_module": "@jupyter-widgets/controls",
          "model_name": "HBoxModel",
          "state": {
            "_view_name": "HBoxView",
            "_dom_classes": [],
            "_model_name": "HBoxModel",
            "_view_module": "@jupyter-widgets/controls",
            "_model_module_version": "1.5.0",
            "_view_count": null,
            "_view_module_version": "1.5.0",
            "box_style": "",
            "layout": "IPY_MODEL_3e7229f36f404d208aefbaff92b58b7f",
            "_model_module": "@jupyter-widgets/controls",
            "children": [
              "IPY_MODEL_5052ca0d970245dcb16541717899a12e",
              "IPY_MODEL_259a3ca1e0be48619ceb7cb4a4249dc3"
            ]
          }
        },
        "3e7229f36f404d208aefbaff92b58b7f": {
          "model_module": "@jupyter-widgets/base",
          "model_name": "LayoutModel",
          "state": {
            "_view_name": "LayoutView",
            "grid_template_rows": null,
            "right": null,
            "justify_content": null,
            "_view_module": "@jupyter-widgets/base",
            "overflow": null,
            "_model_module_version": "1.2.0",
            "_view_count": null,
            "flex_flow": null,
            "width": null,
            "min_width": null,
            "border": null,
            "align_items": null,
            "bottom": null,
            "_model_module": "@jupyter-widgets/base",
            "top": null,
            "grid_column": null,
            "overflow_y": null,
            "overflow_x": null,
            "grid_auto_flow": null,
            "grid_area": null,
            "grid_template_columns": null,
            "flex": null,
            "_model_name": "LayoutModel",
            "justify_items": null,
            "grid_row": null,
            "max_height": null,
            "align_content": null,
            "visibility": null,
            "align_self": null,
            "height": null,
            "min_height": null,
            "padding": null,
            "grid_auto_rows": null,
            "grid_gap": null,
            "max_width": null,
            "order": null,
            "_view_module_version": "1.2.0",
            "grid_template_areas": null,
            "object_position": null,
            "object_fit": null,
            "grid_auto_columns": null,
            "margin": null,
            "display": null,
            "left": null
          }
        },
        "5052ca0d970245dcb16541717899a12e": {
          "model_module": "@jupyter-widgets/controls",
          "model_name": "FloatProgressModel",
          "state": {
            "_view_name": "ProgressView",
            "style": "IPY_MODEL_b67e5862638749fdbcba4ad640e0e739",
            "_dom_classes": [],
            "description": "",
            "_model_name": "FloatProgressModel",
            "bar_style": "success",
            "max": 3041136,
            "_view_module": "@jupyter-widgets/controls",
            "_model_module_version": "1.5.0",
            "value": 3041136,
            "_view_count": null,
            "_view_module_version": "1.5.0",
            "orientation": "horizontal",
            "min": 0,
            "description_tooltip": null,
            "_model_module": "@jupyter-widgets/controls",
            "layout": "IPY_MODEL_d779430bae244610b86d2a029c1de451"
          }
        },
        "259a3ca1e0be48619ceb7cb4a4249dc3": {
          "model_module": "@jupyter-widgets/controls",
          "model_name": "HTMLModel",
          "state": {
            "_view_name": "HTMLView",
            "style": "IPY_MODEL_4e5e775abb8545c6a9f555defe08099e",
            "_dom_classes": [],
            "description": "",
            "_model_name": "HTMLModel",
            "placeholder": "​",
            "_view_module": "@jupyter-widgets/controls",
            "_model_module_version": "1.5.0",
            "value": " 3041280/? [00:01&lt;00:00, 2293373.89it/s]",
            "_view_count": null,
            "_view_module_version": "1.5.0",
            "description_tooltip": null,
            "_model_module": "@jupyter-widgets/controls",
            "layout": "IPY_MODEL_d2e4047e762541b293e6ee1b2fd15477"
          }
        },
        "b67e5862638749fdbcba4ad640e0e739": {
          "model_module": "@jupyter-widgets/controls",
          "model_name": "ProgressStyleModel",
          "state": {
            "_view_name": "StyleView",
            "_model_name": "ProgressStyleModel",
            "description_width": "initial",
            "_view_module": "@jupyter-widgets/base",
            "_model_module_version": "1.5.0",
            "_view_count": null,
            "_view_module_version": "1.2.0",
            "bar_color": null,
            "_model_module": "@jupyter-widgets/controls"
          }
        },
        "d779430bae244610b86d2a029c1de451": {
          "model_module": "@jupyter-widgets/base",
          "model_name": "LayoutModel",
          "state": {
            "_view_name": "LayoutView",
            "grid_template_rows": null,
            "right": null,
            "justify_content": null,
            "_view_module": "@jupyter-widgets/base",
            "overflow": null,
            "_model_module_version": "1.2.0",
            "_view_count": null,
            "flex_flow": null,
            "width": null,
            "min_width": null,
            "border": null,
            "align_items": null,
            "bottom": null,
            "_model_module": "@jupyter-widgets/base",
            "top": null,
            "grid_column": null,
            "overflow_y": null,
            "overflow_x": null,
            "grid_auto_flow": null,
            "grid_area": null,
            "grid_template_columns": null,
            "flex": null,
            "_model_name": "LayoutModel",
            "justify_items": null,
            "grid_row": null,
            "max_height": null,
            "align_content": null,
            "visibility": null,
            "align_self": null,
            "height": null,
            "min_height": null,
            "padding": null,
            "grid_auto_rows": null,
            "grid_gap": null,
            "max_width": null,
            "order": null,
            "_view_module_version": "1.2.0",
            "grid_template_areas": null,
            "object_position": null,
            "object_fit": null,
            "grid_auto_columns": null,
            "margin": null,
            "display": null,
            "left": null
          }
        },
        "4e5e775abb8545c6a9f555defe08099e": {
          "model_module": "@jupyter-widgets/controls",
          "model_name": "DescriptionStyleModel",
          "state": {
            "_view_name": "StyleView",
            "_model_name": "DescriptionStyleModel",
            "description_width": "",
            "_view_module": "@jupyter-widgets/base",
            "_model_module_version": "1.5.0",
            "_view_count": null,
            "_view_module_version": "1.2.0",
            "_model_module": "@jupyter-widgets/controls"
          }
        },
        "d2e4047e762541b293e6ee1b2fd15477": {
          "model_module": "@jupyter-widgets/base",
          "model_name": "LayoutModel",
          "state": {
            "_view_name": "LayoutView",
            "grid_template_rows": null,
            "right": null,
            "justify_content": null,
            "_view_module": "@jupyter-widgets/base",
            "overflow": null,
            "_model_module_version": "1.2.0",
            "_view_count": null,
            "flex_flow": null,
            "width": null,
            "min_width": null,
            "border": null,
            "align_items": null,
            "bottom": null,
            "_model_module": "@jupyter-widgets/base",
            "top": null,
            "grid_column": null,
            "overflow_y": null,
            "overflow_x": null,
            "grid_auto_flow": null,
            "grid_area": null,
            "grid_template_columns": null,
            "flex": null,
            "_model_name": "LayoutModel",
            "justify_items": null,
            "grid_row": null,
            "max_height": null,
            "align_content": null,
            "visibility": null,
            "align_self": null,
            "height": null,
            "min_height": null,
            "padding": null,
            "grid_auto_rows": null,
            "grid_gap": null,
            "max_width": null,
            "order": null,
            "_view_module_version": "1.2.0",
            "grid_template_areas": null,
            "object_position": null,
            "object_fit": null,
            "grid_auto_columns": null,
            "margin": null,
            "display": null,
            "left": null
          }
        },
        "d64b71f8849c49f0b338138a54e1b4ec": {
          "model_module": "@jupyter-widgets/controls",
          "model_name": "HBoxModel",
          "state": {
            "_view_name": "HBoxView",
            "_dom_classes": [],
            "_model_name": "HBoxModel",
            "_view_module": "@jupyter-widgets/controls",
            "_model_module_version": "1.5.0",
            "_view_count": null,
            "_view_module_version": "1.5.0",
            "box_style": "",
            "layout": "IPY_MODEL_3cfc00d2a5104f4d9676ee1fb05e3146",
            "_model_module": "@jupyter-widgets/controls",
            "children": [
              "IPY_MODEL_b013dfc3c0df42299e113ad5094f0147",
              "IPY_MODEL_1d3519da1cd44615b96eb4bdf3605ec4"
            ]
          }
        },
        "3cfc00d2a5104f4d9676ee1fb05e3146": {
          "model_module": "@jupyter-widgets/base",
          "model_name": "LayoutModel",
          "state": {
            "_view_name": "LayoutView",
            "grid_template_rows": null,
            "right": null,
            "justify_content": null,
            "_view_module": "@jupyter-widgets/base",
            "overflow": null,
            "_model_module_version": "1.2.0",
            "_view_count": null,
            "flex_flow": null,
            "width": null,
            "min_width": null,
            "border": null,
            "align_items": null,
            "bottom": null,
            "_model_module": "@jupyter-widgets/base",
            "top": null,
            "grid_column": null,
            "overflow_y": null,
            "overflow_x": null,
            "grid_auto_flow": null,
            "grid_area": null,
            "grid_template_columns": null,
            "flex": null,
            "_model_name": "LayoutModel",
            "justify_items": null,
            "grid_row": null,
            "max_height": null,
            "align_content": null,
            "visibility": null,
            "align_self": null,
            "height": null,
            "min_height": null,
            "padding": null,
            "grid_auto_rows": null,
            "grid_gap": null,
            "max_width": null,
            "order": null,
            "_view_module_version": "1.2.0",
            "grid_template_areas": null,
            "object_position": null,
            "object_fit": null,
            "grid_auto_columns": null,
            "margin": null,
            "display": null,
            "left": null
          }
        },
        "b013dfc3c0df42299e113ad5094f0147": {
          "model_module": "@jupyter-widgets/controls",
          "model_name": "FloatProgressModel",
          "state": {
            "_view_name": "ProgressView",
            "style": "IPY_MODEL_00bfb30aabe5439d812dcf5485487991",
            "_dom_classes": [],
            "description": "100%",
            "_model_name": "FloatProgressModel",
            "bar_style": "success",
            "max": 5120,
            "_view_module": "@jupyter-widgets/controls",
            "_model_module_version": "1.5.0",
            "value": 5120,
            "_view_count": null,
            "_view_module_version": "1.5.0",
            "orientation": "horizontal",
            "min": 0,
            "description_tooltip": null,
            "_model_module": "@jupyter-widgets/controls",
            "layout": "IPY_MODEL_27630fa3b4224fee8cd1ffac01819204"
          }
        },
        "1d3519da1cd44615b96eb4bdf3605ec4": {
          "model_module": "@jupyter-widgets/controls",
          "model_name": "HTMLModel",
          "state": {
            "_view_name": "HTMLView",
            "style": "IPY_MODEL_0e1f6cf6d21747e29434fe60b3033eb5",
            "_dom_classes": [],
            "description": "",
            "_model_name": "HTMLModel",
            "placeholder": "​",
            "_view_module": "@jupyter-widgets/controls",
            "_model_module_version": "1.5.0",
            "value": " 5120/5120 [00:00&lt;00:00, 10518.22it/s]",
            "_view_count": null,
            "_view_module_version": "1.5.0",
            "description_tooltip": null,
            "_model_module": "@jupyter-widgets/controls",
            "layout": "IPY_MODEL_6d7c4c685be8407788500e7d1f36cc06"
          }
        },
        "00bfb30aabe5439d812dcf5485487991": {
          "model_module": "@jupyter-widgets/controls",
          "model_name": "ProgressStyleModel",
          "state": {
            "_view_name": "StyleView",
            "_model_name": "ProgressStyleModel",
            "description_width": "initial",
            "_view_module": "@jupyter-widgets/base",
            "_model_module_version": "1.5.0",
            "_view_count": null,
            "_view_module_version": "1.2.0",
            "bar_color": null,
            "_model_module": "@jupyter-widgets/controls"
          }
        },
        "27630fa3b4224fee8cd1ffac01819204": {
          "model_module": "@jupyter-widgets/base",
          "model_name": "LayoutModel",
          "state": {
            "_view_name": "LayoutView",
            "grid_template_rows": null,
            "right": null,
            "justify_content": null,
            "_view_module": "@jupyter-widgets/base",
            "overflow": null,
            "_model_module_version": "1.2.0",
            "_view_count": null,
            "flex_flow": null,
            "width": null,
            "min_width": null,
            "border": null,
            "align_items": null,
            "bottom": null,
            "_model_module": "@jupyter-widgets/base",
            "top": null,
            "grid_column": null,
            "overflow_y": null,
            "overflow_x": null,
            "grid_auto_flow": null,
            "grid_area": null,
            "grid_template_columns": null,
            "flex": null,
            "_model_name": "LayoutModel",
            "justify_items": null,
            "grid_row": null,
            "max_height": null,
            "align_content": null,
            "visibility": null,
            "align_self": null,
            "height": null,
            "min_height": null,
            "padding": null,
            "grid_auto_rows": null,
            "grid_gap": null,
            "max_width": null,
            "order": null,
            "_view_module_version": "1.2.0",
            "grid_template_areas": null,
            "object_position": null,
            "object_fit": null,
            "grid_auto_columns": null,
            "margin": null,
            "display": null,
            "left": null
          }
        },
        "0e1f6cf6d21747e29434fe60b3033eb5": {
          "model_module": "@jupyter-widgets/controls",
          "model_name": "DescriptionStyleModel",
          "state": {
            "_view_name": "StyleView",
            "_model_name": "DescriptionStyleModel",
            "description_width": "",
            "_view_module": "@jupyter-widgets/base",
            "_model_module_version": "1.5.0",
            "_view_count": null,
            "_view_module_version": "1.2.0",
            "_model_module": "@jupyter-widgets/controls"
          }
        },
        "6d7c4c685be8407788500e7d1f36cc06": {
          "model_module": "@jupyter-widgets/base",
          "model_name": "LayoutModel",
          "state": {
            "_view_name": "LayoutView",
            "grid_template_rows": null,
            "right": null,
            "justify_content": null,
            "_view_module": "@jupyter-widgets/base",
            "overflow": null,
            "_model_module_version": "1.2.0",
            "_view_count": null,
            "flex_flow": null,
            "width": null,
            "min_width": null,
            "border": null,
            "align_items": null,
            "bottom": null,
            "_model_module": "@jupyter-widgets/base",
            "top": null,
            "grid_column": null,
            "overflow_y": null,
            "overflow_x": null,
            "grid_auto_flow": null,
            "grid_area": null,
            "grid_template_columns": null,
            "flex": null,
            "_model_name": "LayoutModel",
            "justify_items": null,
            "grid_row": null,
            "max_height": null,
            "align_content": null,
            "visibility": null,
            "align_self": null,
            "height": null,
            "min_height": null,
            "padding": null,
            "grid_auto_rows": null,
            "grid_gap": null,
            "max_width": null,
            "order": null,
            "_view_module_version": "1.2.0",
            "grid_template_areas": null,
            "object_position": null,
            "object_fit": null,
            "grid_auto_columns": null,
            "margin": null,
            "display": null,
            "left": null
          }
        }
      }
    }
  },
  "cells": [
    {
      "cell_type": "markdown",
      "metadata": {
        "id": "view-in-github",
        "colab_type": "text"
      },
      "source": [
        "<a href=\"https://colab.research.google.com/github/nandandutta/Data_Science/blob/master/STAT4609_HW3_Neural_Network_Template.ipynb\" target=\"_parent\"><img src=\"https://colab.research.google.com/assets/colab-badge.svg\" alt=\"Open In Colab\"/></a>"
      ]
    },
    {
      "cell_type": "markdown",
      "metadata": {
        "id": "3mPiyXAUCKHT"
      },
      "source": [
        "# Image Classification. \n",
        "In this section, we are going to compare MLP, and, a simple CNN model, and ResNet-18. \n",
        "## Task 0: Reading \n",
        "\n",
        "## Part 1: Short Essay Around 500 words. \n",
        "1. introduce the computation of one CNN layer. please use proper notation to define the necessary parameters and illustrate the calculation process rigorously. \n",
        "2. Discuss the advantages of CNN compared with general Perceptron. \n",
        "3. Discuss the design and advantages of ResNet. "
      ]
    },
    {
      "cell_type": "markdown",
      "metadata": {
        "id": "_hUx0gcQXUEW"
      },
      "source": [
        "1. introduce the computation of one CNN layer. please use proper notation to define the necessary parameters and illustrate the calculation process rigorously.\n",
        "\n",
        "The main task of the convolutional layer is to detect local conjunctions of features from the previous layer and mapping their appearance to a feature map. As a result of convolution in neuronal networks, the image is split into perceptrons, creating local receptive fields and finally compressing the perceptrons in feature maps of size m2 × m3. Thus, this map stores the information where the feature occurs in the image and how well it corresponds to the filter. Hence, each filter is trained spatial in regard to the position in the volume it is applied to.\n",
        "\n",
        "In each layer, there is a bank of  m1 filters. The number of how many filters are applied in one stage is equivalent to the depth of the volume of output feature maps. Each filter detects a particular feature at every location on the input. The output Y(l)i  of layer l consists of m(l)1 feature maps of size m(l)2 × m(l)3. The ith feature map, denoted Y(l)i, is computed as\n",
        "\n",
        "(1)\tY(l)i=B(l)i+∑j=1m(l−1)1K(l)i,j∗Y(l−1)j\n",
        "where B(l)i is a bias matrix and  K(l)i,j is the filter of size 2h(l)1+1 × 2h(l)2+1 connecting the jth feature map in layer (l−1) with ith feature map in layer.\n",
        "\n",
        "The result of staging these convolutional layers in conjunction with the following layers is that the information of the image is classified like in vision. That means that the pixels are assembled into edglets, edglets into motifs, motifs into parts, parts into objects, and objects into scenes.\n",
        "\n",
        "2. Discuss the advantages of CNN compared with general Perceptron.\n",
        "\n",
        "Convolutional Neural Networks (CNN) are everywhere. It is arguably the most popular deep learning architecture. The recent surge of interest in deep learning is due to the immense popularity and effectiveness of convnets. The interest in CNN started with AlexNet in 2012 and it has grown exponentially ever since. In just three years, researchers progressed from 8 layer AlexNet to 152 layer ResNet.\n",
        "\n",
        "CNN is now the go-to model on every image related problem. In terms of accuracy they blow competition out of the water. It is also successfully applied to recommender systems, natural language processing and more. The main advantage of CNN compared to its predecessors is that it automatically detects the important features without any human supervision. For example, given many pictures of cats and dogs it learns distinctive features for each class by itself.\n",
        "CNN is also computationally efficient. It uses special convolution and pooling operations and performs parameter sharing. This enables CNN models to run on any device, making them universally attractive.\n",
        "\n",
        "A multilayer perceptron (MLP) is a class of feedforward artificial neural network. A MLP consists of at least three layers of nodes: an input layer, a hidden layer and an output layer. Except for the input nodes, each node is a neuron that uses a nonlinear activation function. MLP utilizes a supervised learning technique called backpropagation for training. Its multiple layers and non-linear activation distinguish MLP from a linear perceptron. It can distinguish data that is not linearly separable.\n",
        "\n",
        "\n",
        "3. Discuss the design and advantages of ResNet.\n",
        "\n",
        "The module basically acts as multiple convolution filters, that are applied to the same input, with some pooling. The results are then concatenated. This allows the model to take advantage of multi-level feature extraction . For instance, it extracts general (5x5) and local (1x1) features at the same time.\n",
        "Using multiple features from multiple filters improve the performance of the network. Other than that, there is another fact that makes the inception architecture better than others. All the architectures prior to inception, performed convolution on the spatial and channel wise domain together. By performing the 1x1 convolution, the inception block is doing cross-channel correlations, ignoring the spatial dimensions. This is followed by cross-spatial and cross-channel correlations via the 3x3 and 5x5 filters.\n",
        "The Inception Module is based on a pattern recognition network which mimics the animal visual cortex. After presenting several examples of images, the network gets used to small details, middle sized features or almost whole images if they come up very often. Each layer of the deep network reinforces some features it thinks is there and passes on to the next. If it has been trained to recognize faces, the first layer detects edges, the second overall design, the third eyes, mouth, nose, the fourth the face, the fifth the mood, for instance.\n",
        "\n",
        "According to the universal approximation theorem, given enough capacity, we know that a feedforward network with a single layer is sufficient to represent any function. However, the layer might be massive and the network is prone to overfitting the data. Therefore, there is a common trend in the research community that our network architecture needs to go deeper.\n",
        "However, increasing network depth does not work by simply stacking layers together. Deep networks are hard to train because of the notorious vanishing gradient problem — as the gradient is back-propagated to earlier layers, repeated multiplication may make the gradient infinitively small. As a result, as the network goes deeper, its performance gets saturated or even starts degrading rapidly.\n",
        "Before ResNet, there had been several ways to deal the vanishing gradient issue, e.g. adding an auxiliary loss in a middle layer as extra supervision, but none seemed to really tackle the problem once and for all.\n",
        "The core idea of ResNet is introducing a so-called “identity shortcut connection” that skips one or more layers,\n",
        "The authors of Resnet argue that stacking layers shouldn’t degrade the network performance, because we could simply stack identity mappings (layer that doesn’t do anything) upon the current network, and the resulting architecture would perform the same. This indicates that the deeper model should not produce a training error higher than its shallower counterparts. They hypothesize that letting the stacked layers fit a residual mapping is easier than letting them directly fit the desired underlaying mapping. And the residual block explicitly allows it to do precisely that.\n",
        "\n",
        "Advantages of the ResNet:\n",
        "1) To accelerate the speed of training of the deep networks\n",
        "2) Instead of widen the network, increasing depth of the network results in less extra parameters\n",
        "3) Reducing the effect of Vanishing Gradient Problem\n",
        "4) Obtaining higher accuracy in network performance especially in Image Classification"
      ]
    },
    {
      "cell_type": "code",
      "metadata": {
        "id": "9XAjAb9bSSJq"
      },
      "source": [
        "from __future__ import print_function\n",
        "import matplotlib.pyplot as plt\n",
        "import numpy as np"
      ],
      "execution_count": 1,
      "outputs": []
    },
    {
      "cell_type": "code",
      "metadata": {
        "id": "dehr_505X7Re"
      },
      "source": [
        "import torch\n",
        "import os\n",
        "import pandas as pd\n",
        "import numpy as np\n",
        "import time\n",
        "import random\n",
        "from PIL import Image\n",
        "from torch.utils.data import Dataset\n",
        "from torchvision import transforms\n",
        "from torch.utils.data import DataLoader\n",
        "import torch.nn.functional as F\n",
        "import matplotlib.pyplot as plt\n",
        "%matplotlib inline"
      ],
      "execution_count": 2,
      "outputs": []
    },
    {
      "cell_type": "code",
      "metadata": {
        "id": "higbRpNdSqmK"
      },
      "source": [
        "# Training settings\n",
        "batch_size = 64\n",
        "test_batch_size = 1000\n",
        "epochs = 14\n",
        "lr = 1.0\n",
        "gamma = 0.7\n",
        "seed = 1\n",
        "log_interval = 10\n",
        "save_model = True\n",
        "use_cuda = torch.cuda.is_available()\n",
        "torch.manual_seed(seed)\n",
        "device = torch.device(\"cuda\" if use_cuda else \"cpu\")"
      ],
      "execution_count": 3,
      "outputs": []
    },
    {
      "cell_type": "markdown",
      "metadata": {
        "id": "-lAn7EWVObXZ"
      },
      "source": [
        "## Part 2: Load and Normalize [KMNIST](https://github.com/rois-codh/kmnist)\n",
        "![image](https://raw.githubusercontent.com/rois-codh/kmnist/master/images/kmnist_examples.png)\n",
        "Now we'll also need DataLoaders for the dataset. This is where TorchVision comes into play. It let's use load the KMNIST dataset in a handy way. We'll use a batch_size of 64 for training and size 10000 for testing on this dataset. The values 0.1307 and 0.3081 used for the Normalize() transformation below are the global mean and standard deviation of the MNIST dataset, we'll take them as a given here.\n",
        "\n",
        "TorchVision offers a lot of handy transformations, such as cropping or normalization.\n"
      ]
    },
    {
      "cell_type": "code",
      "metadata": {
        "id": "ntmrMda0Oarb",
        "outputId": "31f7aa60-ca86-41e7-d15b-fab53800a435",
        "colab": {
          "base_uri": "https://localhost:8080/",
          "height": 437,
          "referenced_widgets": [
            "2785010a3dca498f8a340bcdc31c289d",
            "0ad62a62bb3941bbad60fd2b5150d89f",
            "a7803dea0a494805acdf448a3937f6b2",
            "0bda565785564b03bb66e246aea381a6",
            "c1b9413875d1491fba701b2d8acda8de",
            "51c841a7e7254312bce1fd2428b832d2",
            "2c241020a9174462b410779647351f28",
            "3648f7b99ee34fe8bc94041c4c28a497",
            "7e7d681c03794222b52b38e5868db592",
            "3e7cd90b8cd34d1c9361f86b7e35ef81",
            "b890e432e4ea4528ad660ed305a6665c",
            "4d04999eda65481f9f1479246b636bc5",
            "b55a68d4c2a44d62b5a11ad526cc5aea",
            "6dd90cda5360423398e380ae8072fe62",
            "3a9171f0e7ec43dc9f2a49a874ccf83f",
            "1ef16f77883b4b16bf28ca98219c2969",
            "81d1455da0b6474dae640f1276486eda",
            "3e7229f36f404d208aefbaff92b58b7f",
            "5052ca0d970245dcb16541717899a12e",
            "259a3ca1e0be48619ceb7cb4a4249dc3",
            "b67e5862638749fdbcba4ad640e0e739",
            "d779430bae244610b86d2a029c1de451",
            "4e5e775abb8545c6a9f555defe08099e",
            "d2e4047e762541b293e6ee1b2fd15477",
            "d64b71f8849c49f0b338138a54e1b4ec",
            "3cfc00d2a5104f4d9676ee1fb05e3146",
            "b013dfc3c0df42299e113ad5094f0147",
            "1d3519da1cd44615b96eb4bdf3605ec4",
            "00bfb30aabe5439d812dcf5485487991",
            "27630fa3b4224fee8cd1ffac01819204",
            "0e1f6cf6d21747e29434fe60b3033eb5",
            "6d7c4c685be8407788500e7d1f36cc06"
          ]
        }
      },
      "source": [
        "import torch\n",
        "import torchvision\n",
        "import torchvision.transforms as transforms\n",
        "\n",
        "\n",
        "\n",
        "transform = transforms.Compose([transforms.ToTensor(), \n",
        "                               transforms.Normalize((0.5,), (0.5,))])\n",
        "# train  set\n",
        "train_val = torchvision.datasets.KMNIST('./', train=True, download=True, transform=transform)\n",
        "\n",
        "train, val = torch.utils.data.random_split(train_val, [50000, 10000])\n",
        "train_loader = torch.utils.data.DataLoader(train, batch_size=batch_size, shuffle=True)\n",
        "val_loader = torch.utils.data.DataLoader(val, batch_size=batch_size, shuffle=True)\n",
        "\n",
        "\n",
        "# test set\n",
        "test = torchvision.datasets.KMNIST('./', train=False, download=True,\n",
        "                             transform=transform)\n",
        "test_loader = torch.utils.data.DataLoader(test, batch_size=test_batch_size, shuffle=True)"
      ],
      "execution_count": 4,
      "outputs": [
        {
          "output_type": "stream",
          "text": [
            "Downloading http://codh.rois.ac.jp/kmnist/dataset/kmnist/train-images-idx3-ubyte.gz to ./KMNIST/raw/train-images-idx3-ubyte.gz\n"
          ],
          "name": "stdout"
        },
        {
          "output_type": "display_data",
          "data": {
            "application/vnd.jupyter.widget-view+json": {
              "model_id": "2785010a3dca498f8a340bcdc31c289d",
              "version_minor": 0,
              "version_major": 2
            },
            "text/plain": [
              "HBox(children=(FloatProgress(value=0.0, max=18165135.0), HTML(value='')))"
            ]
          },
          "metadata": {
            "tags": []
          }
        },
        {
          "output_type": "stream",
          "text": [
            "\n",
            "Extracting ./KMNIST/raw/train-images-idx3-ubyte.gz to ./KMNIST/raw\n",
            "Downloading http://codh.rois.ac.jp/kmnist/dataset/kmnist/train-labels-idx1-ubyte.gz to ./KMNIST/raw/train-labels-idx1-ubyte.gz\n"
          ],
          "name": "stdout"
        },
        {
          "output_type": "display_data",
          "data": {
            "application/vnd.jupyter.widget-view+json": {
              "model_id": "7e7d681c03794222b52b38e5868db592",
              "version_minor": 0,
              "version_major": 2
            },
            "text/plain": [
              "HBox(children=(FloatProgress(value=0.0, max=29497.0), HTML(value='')))"
            ]
          },
          "metadata": {
            "tags": []
          }
        },
        {
          "output_type": "stream",
          "text": [
            "\n",
            "Extracting ./KMNIST/raw/train-labels-idx1-ubyte.gz to ./KMNIST/raw\n",
            "Downloading http://codh.rois.ac.jp/kmnist/dataset/kmnist/t10k-images-idx3-ubyte.gz to ./KMNIST/raw/t10k-images-idx3-ubyte.gz\n"
          ],
          "name": "stdout"
        },
        {
          "output_type": "display_data",
          "data": {
            "application/vnd.jupyter.widget-view+json": {
              "model_id": "81d1455da0b6474dae640f1276486eda",
              "version_minor": 0,
              "version_major": 2
            },
            "text/plain": [
              "HBox(children=(FloatProgress(value=0.0, max=3041136.0), HTML(value='')))"
            ]
          },
          "metadata": {
            "tags": []
          }
        },
        {
          "output_type": "stream",
          "text": [
            "\n",
            "Extracting ./KMNIST/raw/t10k-images-idx3-ubyte.gz to ./KMNIST/raw\n",
            "Downloading http://codh.rois.ac.jp/kmnist/dataset/kmnist/t10k-labels-idx1-ubyte.gz to ./KMNIST/raw/t10k-labels-idx1-ubyte.gz\n"
          ],
          "name": "stdout"
        },
        {
          "output_type": "display_data",
          "data": {
            "application/vnd.jupyter.widget-view+json": {
              "model_id": "d64b71f8849c49f0b338138a54e1b4ec",
              "version_minor": 0,
              "version_major": 2
            },
            "text/plain": [
              "HBox(children=(FloatProgress(value=0.0, max=5120.0), HTML(value='')))"
            ]
          },
          "metadata": {
            "tags": []
          }
        },
        {
          "output_type": "stream",
          "text": [
            "\n",
            "Extracting ./KMNIST/raw/t10k-labels-idx1-ubyte.gz to ./KMNIST/raw\n",
            "Processing...\n"
          ],
          "name": "stdout"
        },
        {
          "output_type": "stream",
          "text": [
            "/usr/local/lib/python3.7/dist-packages/torchvision/datasets/mnist.py:479: UserWarning: The given NumPy array is not writeable, and PyTorch does not support non-writeable tensors. This means you can write to the underlying (supposedly non-writeable) NumPy array using the tensor. You may want to copy the array to protect its data or make it writeable before converting it to a tensor. This type of warning will be suppressed for the rest of this program. (Triggered internally at  /pytorch/torch/csrc/utils/tensor_numpy.cpp:143.)\n",
            "  return torch.from_numpy(parsed.astype(m[2], copy=False)).view(*s)\n"
          ],
          "name": "stderr"
        },
        {
          "output_type": "stream",
          "text": [
            "Done!\n"
          ],
          "name": "stdout"
        }
      ]
    },
    {
      "cell_type": "markdown",
      "metadata": {
        "id": "cIOiKX-nSn0m"
      },
      "source": [
        "Let us show some of the training images, for fun.\n",
        "\n"
      ]
    },
    {
      "cell_type": "code",
      "metadata": {
        "id": "M5mf2GDcCN2V"
      },
      "source": [
        "def show_batch(batch):\n",
        "    im = torchvision.utils.make_grid(batch)\n",
        "    plt.imshow(np.transpose(im.numpy(), (1, 2, 0)))\n"
      ],
      "execution_count": 5,
      "outputs": []
    },
    {
      "cell_type": "code",
      "metadata": {
        "id": "RCfF1GD9Y_L7",
        "outputId": "6172b598-0be6-424e-c92b-d9c9368db64a",
        "colab": {
          "base_uri": "https://localhost:8080/",
          "height": 354
        }
      },
      "source": [
        "dataiter = iter(train_loader)\n",
        "images, labels = dataiter.next()\n",
        "\n",
        "print('Labels: ', labels)\n",
        "print('Batch shape: ', images.size())\n",
        "show_batch(images)"
      ],
      "execution_count": 6,
      "outputs": [
        {
          "output_type": "stream",
          "text": [
            "Clipping input data to the valid range for imshow with RGB data ([0..1] for floats or [0..255] for integers).\n"
          ],
          "name": "stderr"
        },
        {
          "output_type": "stream",
          "text": [
            "Labels:  tensor([0, 3, 5, 7, 3, 7, 8, 7, 5, 3, 1, 6, 1, 8, 2, 0, 3, 4, 3, 3, 7, 7, 3, 4,\n",
            "        4, 1, 8, 8, 3, 7, 5, 2, 9, 0, 2, 4, 0, 3, 2, 6, 6, 4, 0, 2, 0, 7, 3, 9,\n",
            "        2, 3, 9, 9, 5, 4, 6, 0, 6, 7, 7, 9, 2, 6, 2, 5])\n",
            "Batch shape:  torch.Size([64, 1, 28, 28])\n"
          ],
          "name": "stdout"
        },
        {
          "output_type": "display_data",
          "data": {
            "image/png": "[encoded data removed]",
            "text/plain": [
              "<Figure size 432x288 with 1 Axes>"
            ]
          },
          "metadata": {
            "tags": [],
            "needs_background": "light"
          }
        }
      ]
    },
    {
      "cell_type": "markdown",
      "metadata": {
        "id": "GtNdEUWgZCOr"
      },
      "source": [
        "### MLP model \n",
        "\n",
        "#### Please define your MLP model in the following code block. This is written by your lovely tutors, you can directly use it\n",
        "\n"
      ]
    },
    {
      "cell_type": "code",
      "metadata": {
        "id": "QrWP13gEpB25"
      },
      "source": [
        "class MLP(torch.nn.Module):\n",
        "\n",
        "    def __init__(self, num_features, num_hidden_1, num_classes):\n",
        "        super(MLP, self).__init__()\n",
        "        \n",
        "        self.num_classes = num_classes\n",
        "        \n",
        "        ### ADD ADDITIONAL LAYERS BELOW IF YOU LIKE\n",
        "        self.linear_1 = torch.nn.Linear(num_features, num_hidden_1)\n",
        "        self.linear_out = torch.nn.Linear(num_hidden_1, num_classes)\n",
        "        \n",
        "    def forward(self, x):\n",
        "        \n",
        "        ### MAKE SURE YOU CONNECT THE LAYERS PROPERLY IF YOU CHANGED\n",
        "        ### ANYTHNG IN THE __init__ METHOD ABOVE       \n",
        "        out = self.linear_1(x)\n",
        "        out = torch.sigmoid(out)\n",
        "        logits = self.linear_out(out)\n",
        "        probas = F.sigmoid(logits)\n",
        "        return logits, probas\n",
        "\n",
        "\n",
        "#################################\n",
        "### Model Initialization\n",
        "#################################\n",
        "\n",
        "\n",
        "# the random seed makes sure that the random weight initialization\n",
        "# in the model is always the same.\n",
        "# In practice, some weights don't work well, and we may also want\n",
        "# to try different random seeds. In this homework, this is not\n",
        "# necessary.\n",
        "RANDOM_SEED = random.seed(1000)\n",
        "random.seed(RANDOM_SEED)\n",
        "torch.manual_seed(1000)\n",
        "\n",
        "### IF YOU CHANGED THE ARCHITECTURE ABOVE, MAKE SURE YOU \n",
        "### ACCOUNT FOR IT VIA THE PARAMETERS BELOW. I.e., if you\n",
        "### added a second hidden layer, you may want to add a\n",
        "### hidden_2 parameter here. Also you may want to play\n",
        "### with the number of hidden units.\n",
        "model = MLP(num_features=28*28,\n",
        "            num_hidden_1=1000,\n",
        "            num_classes=10)\n",
        "\n",
        "model = model.to(device)"
      ],
      "execution_count": 7,
      "outputs": []
    },
    {
      "cell_type": "code",
      "metadata": {
        "id": "kTqEevNMiPcO"
      },
      "source": [
        "optimizer = torch.optim.SGD(model.parameters(), lr=0.075)\n",
        "NUM_EPOCHS = 15"
      ],
      "execution_count": 8,
      "outputs": []
    },
    {
      "cell_type": "code",
      "metadata": {
        "id": "eUHuqvKrTHXh"
      },
      "source": [
        "# Optimizer \n",
        "import torch.optim as optim\n",
        "from torch.optim.lr_scheduler import StepLR\n",
        "\n",
        "optimizer = optim.Adadelta(model.parameters(), lr=lr)\n",
        "scheduler = StepLR(optimizer, step_size=1, gamma=gamma)"
      ],
      "execution_count": 9,
      "outputs": []
    },
    {
      "cell_type": "markdown",
      "metadata": {
        "id": "j6Yv67QppCIk"
      },
      "source": [
        "#### Please define a function for the training loop of one epoch here \n",
        "\n",
        "As found above, data shape is (BACTH_SIZE, N_CHANNELS, WIDTH, HEIGHT). To feed our MLP network, we need to flatten the three last dimensions. We can do so with [Tensor.view()](http://pytorch.org/docs/master/tensors.html#torch.Tensor.view)\n",
        "```\n",
        "images.view(BATCH_SIZE, -1).size()\n",
        "```\n",
        "\n",
        "Please add code to the blocks. "
      ]
    },
    {
      "cell_type": "code",
      "metadata": {
        "id": "O8dFPBVcMNNb",
        "outputId": "e34ba57e-729d-4742-fdf4-a26423ebf316",
        "colab": {
          "base_uri": "https://localhost:8080/"
        }
      },
      "source": [
        "def compute_accuracy_and_loss(model, data_loader, device):\n",
        "    correct_pred, num_examples = 0, 0\n",
        "    cross_entropy = 0.\n",
        "    for i, (features, targets) in enumerate(data_loader):\n",
        "            \n",
        "        features = features.view(-1, 28*28).to(device)\n",
        "        targets = targets.to(device)\n",
        "\n",
        "        logits, probas = model(features)\n",
        "        cross_entropy += F.cross_entropy(logits, targets).item()\n",
        "        _, predicted_labels = torch.max(probas, 1)\n",
        "        num_examples += targets.size(0)\n",
        "        correct_pred += (predicted_labels == targets).sum()\n",
        "    return correct_pred.float()/num_examples * 100, cross_entropy/num_examples\n",
        "    \n",
        "\n",
        "start_time = time.time()\n",
        "train_acc_lst, valid_acc_lst = [], []\n",
        "train_loss_lst, valid_loss_lst = [], []\n",
        "\n",
        "for epoch in range(NUM_EPOCHS):\n",
        "    \n",
        "    model.train()\n",
        "    \n",
        "    for batch_idx, (features, targets) in enumerate(train_loader):\n",
        "    \n",
        "        ### PREPARE MINIBATCH\n",
        "        features = features.view(-1, 28*28).to(device)\n",
        "        targets = targets.to(device)\n",
        "            \n",
        "        ### FORWARD AND BACK PROP\n",
        "        logits, probas = model(features)\n",
        "        cost = F.cross_entropy(logits, targets)\n",
        "        optimizer.zero_grad()\n",
        "        \n",
        "        cost.backward()\n",
        "        \n",
        "        ### UPDATE MODEL PARAMETERS\n",
        "        optimizer.step()\n",
        "        \n",
        "        ### LOGGING\n",
        "        if not batch_idx % 20:\n",
        "            print (f'Epoch: {epoch+1:03d}/{NUM_EPOCHS:03d} | '\n",
        "                   f'Batch {batch_idx:03d}/{len(train_loader):03d} |' \n",
        "                   f' Cost: {cost:.4f}')\n",
        "\n",
        "    # no need to build the computation graph for backprop when computing accuracy\n",
        "    model.eval()\n",
        "    with torch.set_grad_enabled(False):\n",
        "        train_acc, train_loss = compute_accuracy_and_loss(model, train_loader, device=device)\n",
        "        valid_acc, valid_loss = compute_accuracy_and_loss(model, test_loader, device=device)\n",
        "        train_acc_lst.append(train_acc)\n",
        "        valid_acc_lst.append(valid_acc)\n",
        "        train_loss_lst.append(train_loss)\n",
        "        valid_loss_lst.append(valid_loss)\n",
        "        print(f'Epoch: {epoch+1:03d}/{NUM_EPOCHS:03d} Train Acc.: {train_acc:.2f}%'\n",
        "              f' | Validation Acc.: {valid_acc:.2f}%')\n",
        "        \n",
        "    elapsed = (time.time() - start_time)/60\n",
        "    print(f'Time elapsed: {elapsed:.2f} min')\n",
        "  \n",
        "elapsed = (time.time() - start_time)/60\n",
        "print(f'Total Training Time: {elapsed:.2f} min')"
      ],
      "execution_count": 10,
      "outputs": [
        {
          "output_type": "stream",
          "text": [
            "/usr/local/lib/python3.7/dist-packages/torch/nn/functional.py:1709: UserWarning: nn.functional.sigmoid is deprecated. Use torch.sigmoid instead.\n",
            "  warnings.warn(\"nn.functional.sigmoid is deprecated. Use torch.sigmoid instead.\")\n"
          ],
          "name": "stderr"
        },
        {
          "output_type": "stream",
          "text": [
            "Epoch: 001/015 | Batch 000/782 | Cost: 2.3436\n",
            "Epoch: 001/015 | Batch 020/782 | Cost: 1.4033\n",
            "Epoch: 001/015 | Batch 040/782 | Cost: 1.0991\n",
            "Epoch: 001/015 | Batch 060/782 | Cost: 1.3162\n",
            "Epoch: 001/015 | Batch 080/782 | Cost: 1.1022\n",
            "Epoch: 001/015 | Batch 100/782 | Cost: 0.9775\n",
            "Epoch: 001/015 | Batch 120/782 | Cost: 0.9091\n",
            "Epoch: 001/015 | Batch 140/782 | Cost: 0.7052\n",
            "Epoch: 001/015 | Batch 160/782 | Cost: 1.1038\n",
            "Epoch: 001/015 | Batch 180/782 | Cost: 0.9598\n",
            "Epoch: 001/015 | Batch 200/782 | Cost: 0.6563\n",
            "Epoch: 001/015 | Batch 220/782 | Cost: 0.8294\n",
            "Epoch: 001/015 | Batch 240/782 | Cost: 0.5324\n",
            "Epoch: 001/015 | Batch 260/782 | Cost: 0.5098\n",
            "Epoch: 001/015 | Batch 280/782 | Cost: 0.5759\n",
            "Epoch: 001/015 | Batch 300/782 | Cost: 0.4505\n",
            "Epoch: 001/015 | Batch 320/782 | Cost: 0.8045\n",
            "Epoch: 001/015 | Batch 340/782 | Cost: 0.4378\n",
            "Epoch: 001/015 | Batch 360/782 | Cost: 0.9423\n",
            "Epoch: 001/015 | Batch 380/782 | Cost: 0.7569\n",
            "Epoch: 001/015 | Batch 400/782 | Cost: 0.6095\n",
            "Epoch: 001/015 | Batch 420/782 | Cost: 0.5321\n",
            "Epoch: 001/015 | Batch 440/782 | Cost: 0.6885\n",
            "Epoch: 001/015 | Batch 460/782 | Cost: 0.6403\n",
            "Epoch: 001/015 | Batch 480/782 | Cost: 0.5831\n",
            "Epoch: 001/015 | Batch 500/782 | Cost: 0.4451\n",
            "Epoch: 001/015 | Batch 520/782 | Cost: 0.4899\n",
            "Epoch: 001/015 | Batch 540/782 | Cost: 0.4880\n",
            "Epoch: 001/015 | Batch 560/782 | Cost: 0.5523\n",
            "Epoch: 001/015 | Batch 580/782 | Cost: 0.6284\n",
            "Epoch: 001/015 | Batch 600/782 | Cost: 0.2384\n",
            "Epoch: 001/015 | Batch 620/782 | Cost: 0.2462\n",
            "Epoch: 001/015 | Batch 640/782 | Cost: 0.4454\n",
            "Epoch: 001/015 | Batch 660/782 | Cost: 0.5768\n",
            "Epoch: 001/015 | Batch 680/782 | Cost: 0.4938\n",
            "Epoch: 001/015 | Batch 700/782 | Cost: 0.3979\n",
            "Epoch: 001/015 | Batch 720/782 | Cost: 0.3529\n",
            "Epoch: 001/015 | Batch 740/782 | Cost: 0.4990\n",
            "Epoch: 001/015 | Batch 760/782 | Cost: 0.3802\n",
            "Epoch: 001/015 | Batch 780/782 | Cost: 0.4939\n",
            "Epoch: 001/015 Train Acc.: 87.50% | Validation Acc.: 75.30%\n",
            "Time elapsed: 0.46 min\n",
            "Epoch: 002/015 | Batch 000/782 | Cost: 0.3853\n",
            "Epoch: 002/015 | Batch 020/782 | Cost: 0.4405\n",
            "Epoch: 002/015 | Batch 040/782 | Cost: 0.4975\n",
            "Epoch: 002/015 | Batch 060/782 | Cost: 0.1803\n",
            "Epoch: 002/015 | Batch 080/782 | Cost: 0.3331\n",
            "Epoch: 002/015 | Batch 100/782 | Cost: 0.3230\n",
            "Epoch: 002/015 | Batch 120/782 | Cost: 0.3575\n",
            "Epoch: 002/015 | Batch 140/782 | Cost: 0.4345\n",
            "Epoch: 002/015 | Batch 160/782 | Cost: 0.5901\n",
            "Epoch: 002/015 | Batch 180/782 | Cost: 0.3653\n",
            "Epoch: 002/015 | Batch 200/782 | Cost: 0.3592\n",
            "Epoch: 002/015 | Batch 220/782 | Cost: 0.2660\n",
            "Epoch: 002/015 | Batch 240/782 | Cost: 0.3489\n",
            "Epoch: 002/015 | Batch 260/782 | Cost: 0.2015\n",
            "Epoch: 002/015 | Batch 280/782 | Cost: 0.3021\n",
            "Epoch: 002/015 | Batch 300/782 | Cost: 0.4376\n",
            "Epoch: 002/015 | Batch 320/782 | Cost: 0.3878\n",
            "Epoch: 002/015 | Batch 340/782 | Cost: 0.2133\n",
            "Epoch: 002/015 | Batch 360/782 | Cost: 0.3354\n",
            "Epoch: 002/015 | Batch 380/782 | Cost: 0.3054\n",
            "Epoch: 002/015 | Batch 400/782 | Cost: 0.3304\n",
            "Epoch: 002/015 | Batch 420/782 | Cost: 0.3224\n",
            "Epoch: 002/015 | Batch 440/782 | Cost: 0.3985\n",
            "Epoch: 002/015 | Batch 460/782 | Cost: 0.2013\n",
            "Epoch: 002/015 | Batch 480/782 | Cost: 0.2685\n",
            "Epoch: 002/015 | Batch 500/782 | Cost: 0.1249\n",
            "Epoch: 002/015 | Batch 520/782 | Cost: 0.3899\n",
            "Epoch: 002/015 | Batch 540/782 | Cost: 0.3421\n",
            "Epoch: 002/015 | Batch 560/782 | Cost: 0.4152\n",
            "Epoch: 002/015 | Batch 580/782 | Cost: 0.2392\n",
            "Epoch: 002/015 | Batch 600/782 | Cost: 0.2730\n",
            "Epoch: 002/015 | Batch 620/782 | Cost: 0.2183\n",
            "Epoch: 002/015 | Batch 640/782 | Cost: 0.3958\n",
            "Epoch: 002/015 | Batch 660/782 | Cost: 0.3586\n",
            "Epoch: 002/015 | Batch 680/782 | Cost: 0.3239\n",
            "Epoch: 002/015 | Batch 700/782 | Cost: 0.2797\n",
            "Epoch: 002/015 | Batch 720/782 | Cost: 0.0972\n",
            "Epoch: 002/015 | Batch 740/782 | Cost: 0.2602\n",
            "Epoch: 002/015 | Batch 760/782 | Cost: 0.4713\n",
            "Epoch: 002/015 | Batch 780/782 | Cost: 0.1908\n",
            "Epoch: 002/015 Train Acc.: 90.94% | Validation Acc.: 81.00%\n",
            "Time elapsed: 0.92 min\n",
            "Epoch: 003/015 | Batch 000/782 | Cost: 0.5368\n",
            "Epoch: 003/015 | Batch 020/782 | Cost: 0.2112\n",
            "Epoch: 003/015 | Batch 040/782 | Cost: 0.2342\n",
            "Epoch: 003/015 | Batch 060/782 | Cost: 0.2082\n",
            "Epoch: 003/015 | Batch 080/782 | Cost: 0.3983\n",
            "Epoch: 003/015 | Batch 100/782 | Cost: 0.1068\n",
            "Epoch: 003/015 | Batch 120/782 | Cost: 0.2127\n",
            "Epoch: 003/015 | Batch 140/782 | Cost: 0.1904\n",
            "Epoch: 003/015 | Batch 160/782 | Cost: 0.3508\n",
            "Epoch: 003/015 | Batch 180/782 | Cost: 0.0454\n",
            "Epoch: 003/015 | Batch 200/782 | Cost: 0.1621\n",
            "Epoch: 003/015 | Batch 220/782 | Cost: 0.1047\n",
            "Epoch: 003/015 | Batch 240/782 | Cost: 0.2073\n",
            "Epoch: 003/015 | Batch 260/782 | Cost: 0.1648\n",
            "Epoch: 003/015 | Batch 280/782 | Cost: 0.2105\n",
            "Epoch: 003/015 | Batch 300/782 | Cost: 0.3092\n",
            "Epoch: 003/015 | Batch 320/782 | Cost: 0.1808\n",
            "Epoch: 003/015 | Batch 340/782 | Cost: 0.2383\n",
            "Epoch: 003/015 | Batch 360/782 | Cost: 0.1993\n",
            "Epoch: 003/015 | Batch 380/782 | Cost: 0.3340\n",
            "Epoch: 003/015 | Batch 400/782 | Cost: 0.2250\n",
            "Epoch: 003/015 | Batch 420/782 | Cost: 0.1362\n",
            "Epoch: 003/015 | Batch 440/782 | Cost: 0.2157\n",
            "Epoch: 003/015 | Batch 460/782 | Cost: 0.3951\n",
            "Epoch: 003/015 | Batch 480/782 | Cost: 0.3438\n",
            "Epoch: 003/015 | Batch 500/782 | Cost: 0.1967\n",
            "Epoch: 003/015 | Batch 520/782 | Cost: 0.1803\n",
            "Epoch: 003/015 | Batch 540/782 | Cost: 0.1626\n",
            "Epoch: 003/015 | Batch 560/782 | Cost: 0.1626\n",
            "Epoch: 003/015 | Batch 580/782 | Cost: 0.3247\n",
            "Epoch: 003/015 | Batch 600/782 | Cost: 0.1820\n",
            "Epoch: 003/015 | Batch 620/782 | Cost: 0.2181\n",
            "Epoch: 003/015 | Batch 640/782 | Cost: 0.1767\n",
            "Epoch: 003/015 | Batch 660/782 | Cost: 0.2620\n",
            "Epoch: 003/015 | Batch 680/782 | Cost: 0.1096\n",
            "Epoch: 003/015 | Batch 700/782 | Cost: 0.2455\n",
            "Epoch: 003/015 | Batch 720/782 | Cost: 0.0844\n",
            "Epoch: 003/015 | Batch 740/782 | Cost: 0.1780\n",
            "Epoch: 003/015 | Batch 760/782 | Cost: 0.1568\n",
            "Epoch: 003/015 | Batch 780/782 | Cost: 0.1688\n",
            "Epoch: 003/015 Train Acc.: 94.33% | Validation Acc.: 82.62%\n",
            "Time elapsed: 1.38 min\n",
            "Epoch: 004/015 | Batch 000/782 | Cost: 0.2334\n",
            "Epoch: 004/015 | Batch 020/782 | Cost: 0.1045\n",
            "Epoch: 004/015 | Batch 040/782 | Cost: 0.1947\n",
            "Epoch: 004/015 | Batch 060/782 | Cost: 0.1880\n",
            "Epoch: 004/015 | Batch 080/782 | Cost: 0.1383\n",
            "Epoch: 004/015 | Batch 100/782 | Cost: 0.1327\n",
            "Epoch: 004/015 | Batch 120/782 | Cost: 0.1910\n",
            "Epoch: 004/015 | Batch 140/782 | Cost: 0.1657\n",
            "Epoch: 004/015 | Batch 160/782 | Cost: 0.1092\n",
            "Epoch: 004/015 | Batch 180/782 | Cost: 0.2054\n",
            "Epoch: 004/015 | Batch 200/782 | Cost: 0.1265\n",
            "Epoch: 004/015 | Batch 220/782 | Cost: 0.1076\n",
            "Epoch: 004/015 | Batch 240/782 | Cost: 0.0931\n",
            "Epoch: 004/015 | Batch 260/782 | Cost: 0.1751\n",
            "Epoch: 004/015 | Batch 280/782 | Cost: 0.0837\n",
            "Epoch: 004/015 | Batch 300/782 | Cost: 0.2927\n",
            "Epoch: 004/015 | Batch 320/782 | Cost: 0.0778\n",
            "Epoch: 004/015 | Batch 340/782 | Cost: 0.2683\n",
            "Epoch: 004/015 | Batch 360/782 | Cost: 0.0880\n",
            "Epoch: 004/015 | Batch 380/782 | Cost: 0.2221\n",
            "Epoch: 004/015 | Batch 400/782 | Cost: 0.0719\n",
            "Epoch: 004/015 | Batch 420/782 | Cost: 0.1532\n",
            "Epoch: 004/015 | Batch 440/782 | Cost: 0.1588\n",
            "Epoch: 004/015 | Batch 460/782 | Cost: 0.1867\n",
            "Epoch: 004/015 | Batch 480/782 | Cost: 0.1898\n",
            "Epoch: 004/015 | Batch 500/782 | Cost: 0.1009\n",
            "Epoch: 004/015 | Batch 520/782 | Cost: 0.1197\n",
            "Epoch: 004/015 | Batch 540/782 | Cost: 0.0629\n",
            "Epoch: 004/015 | Batch 560/782 | Cost: 0.1010\n",
            "Epoch: 004/015 | Batch 580/782 | Cost: 0.1254\n",
            "Epoch: 004/015 | Batch 600/782 | Cost: 0.4024\n",
            "Epoch: 004/015 | Batch 620/782 | Cost: 0.0678\n",
            "Epoch: 004/015 | Batch 640/782 | Cost: 0.0613\n",
            "Epoch: 004/015 | Batch 660/782 | Cost: 0.1986\n",
            "Epoch: 004/015 | Batch 680/782 | Cost: 0.1364\n",
            "Epoch: 004/015 | Batch 700/782 | Cost: 0.1322\n",
            "Epoch: 004/015 | Batch 720/782 | Cost: 0.2407\n",
            "Epoch: 004/015 | Batch 740/782 | Cost: 0.0337\n",
            "Epoch: 004/015 | Batch 760/782 | Cost: 0.0502\n",
            "Epoch: 004/015 | Batch 780/782 | Cost: 0.1567\n",
            "Epoch: 004/015 Train Acc.: 94.65% | Validation Acc.: 83.73%\n",
            "Time elapsed: 1.84 min\n",
            "Epoch: 005/015 | Batch 000/782 | Cost: 0.1422\n",
            "Epoch: 005/015 | Batch 020/782 | Cost: 0.1208\n",
            "Epoch: 005/015 | Batch 040/782 | Cost: 0.1885\n",
            "Epoch: 005/015 | Batch 060/782 | Cost: 0.0399\n",
            "Epoch: 005/015 | Batch 080/782 | Cost: 0.1128\n",
            "Epoch: 005/015 | Batch 100/782 | Cost: 0.0955\n",
            "Epoch: 005/015 | Batch 120/782 | Cost: 0.0370\n",
            "Epoch: 005/015 | Batch 140/782 | Cost: 0.0493\n",
            "Epoch: 005/015 | Batch 160/782 | Cost: 0.0807\n",
            "Epoch: 005/015 | Batch 180/782 | Cost: 0.0129\n",
            "Epoch: 005/015 | Batch 200/782 | Cost: 0.2253\n",
            "Epoch: 005/015 | Batch 220/782 | Cost: 0.1717\n",
            "Epoch: 005/015 | Batch 240/782 | Cost: 0.0779\n",
            "Epoch: 005/015 | Batch 260/782 | Cost: 0.0970\n",
            "Epoch: 005/015 | Batch 280/782 | Cost: 0.2443\n",
            "Epoch: 005/015 | Batch 300/782 | Cost: 0.0811\n",
            "Epoch: 005/015 | Batch 320/782 | Cost: 0.2303\n",
            "Epoch: 005/015 | Batch 340/782 | Cost: 0.1012\n",
            "Epoch: 005/015 | Batch 360/782 | Cost: 0.0818\n",
            "Epoch: 005/015 | Batch 380/782 | Cost: 0.0922\n",
            "Epoch: 005/015 | Batch 400/782 | Cost: 0.0514\n",
            "Epoch: 005/015 | Batch 420/782 | Cost: 0.3495\n",
            "Epoch: 005/015 | Batch 440/782 | Cost: 0.0419\n",
            "Epoch: 005/015 | Batch 460/782 | Cost: 0.0674\n",
            "Epoch: 005/015 | Batch 480/782 | Cost: 0.0502\n",
            "Epoch: 005/015 | Batch 500/782 | Cost: 0.1115\n",
            "Epoch: 005/015 | Batch 520/782 | Cost: 0.0700\n",
            "Epoch: 005/015 | Batch 540/782 | Cost: 0.2142\n",
            "Epoch: 005/015 | Batch 560/782 | Cost: 0.0802\n",
            "Epoch: 005/015 | Batch 580/782 | Cost: 0.1154\n",
            "Epoch: 005/015 | Batch 600/782 | Cost: 0.1914\n",
            "Epoch: 005/015 | Batch 620/782 | Cost: 0.0355\n",
            "Epoch: 005/015 | Batch 640/782 | Cost: 0.0386\n",
            "Epoch: 005/015 | Batch 660/782 | Cost: 0.1069\n",
            "Epoch: 005/015 | Batch 680/782 | Cost: 0.0954\n",
            "Epoch: 005/015 | Batch 700/782 | Cost: 0.0594\n",
            "Epoch: 005/015 | Batch 720/782 | Cost: 0.1131\n",
            "Epoch: 005/015 | Batch 740/782 | Cost: 0.0775\n",
            "Epoch: 005/015 | Batch 760/782 | Cost: 0.1501\n",
            "Epoch: 005/015 | Batch 780/782 | Cost: 0.1567\n",
            "Epoch: 005/015 Train Acc.: 96.71% | Validation Acc.: 86.54%\n",
            "Time elapsed: 2.30 min\n",
            "Epoch: 006/015 | Batch 000/782 | Cost: 0.1926\n",
            "Epoch: 006/015 | Batch 020/782 | Cost: 0.1148\n",
            "Epoch: 006/015 | Batch 040/782 | Cost: 0.0531\n",
            "Epoch: 006/015 | Batch 060/782 | Cost: 0.2196\n",
            "Epoch: 006/015 | Batch 080/782 | Cost: 0.0640\n",
            "Epoch: 006/015 | Batch 100/782 | Cost: 0.2877\n",
            "Epoch: 006/015 | Batch 120/782 | Cost: 0.0667\n",
            "Epoch: 006/015 | Batch 140/782 | Cost: 0.1339\n",
            "Epoch: 006/015 | Batch 160/782 | Cost: 0.0397\n",
            "Epoch: 006/015 | Batch 180/782 | Cost: 0.1279\n",
            "Epoch: 006/015 | Batch 200/782 | Cost: 0.2113\n",
            "Epoch: 006/015 | Batch 220/782 | Cost: 0.0539\n",
            "Epoch: 006/015 | Batch 240/782 | Cost: 0.1041\n",
            "Epoch: 006/015 | Batch 260/782 | Cost: 0.0972\n",
            "Epoch: 006/015 | Batch 280/782 | Cost: 0.0669\n",
            "Epoch: 006/015 | Batch 300/782 | Cost: 0.1196\n",
            "Epoch: 006/015 | Batch 320/782 | Cost: 0.0755\n",
            "Epoch: 006/015 | Batch 340/782 | Cost: 0.0414\n",
            "Epoch: 006/015 | Batch 360/782 | Cost: 0.0864\n",
            "Epoch: 006/015 | Batch 380/782 | Cost: 0.0493\n",
            "Epoch: 006/015 | Batch 400/782 | Cost: 0.1144\n",
            "Epoch: 006/015 | Batch 420/782 | Cost: 0.1077\n",
            "Epoch: 006/015 | Batch 440/782 | Cost: 0.0330\n",
            "Epoch: 006/015 | Batch 460/782 | Cost: 0.0792\n",
            "Epoch: 006/015 | Batch 480/782 | Cost: 0.0727\n",
            "Epoch: 006/015 | Batch 500/782 | Cost: 0.0690\n",
            "Epoch: 006/015 | Batch 520/782 | Cost: 0.0778\n",
            "Epoch: 006/015 | Batch 540/782 | Cost: 0.0568\n",
            "Epoch: 006/015 | Batch 560/782 | Cost: 0.0422\n",
            "Epoch: 006/015 | Batch 580/782 | Cost: 0.0792\n",
            "Epoch: 006/015 | Batch 600/782 | Cost: 0.1026\n",
            "Epoch: 006/015 | Batch 620/782 | Cost: 0.0614\n",
            "Epoch: 006/015 | Batch 640/782 | Cost: 0.1005\n",
            "Epoch: 006/015 | Batch 660/782 | Cost: 0.0716\n",
            "Epoch: 006/015 | Batch 680/782 | Cost: 0.0355\n",
            "Epoch: 006/015 | Batch 700/782 | Cost: 0.0156\n",
            "Epoch: 006/015 | Batch 720/782 | Cost: 0.1137\n",
            "Epoch: 006/015 | Batch 740/782 | Cost: 0.0657\n",
            "Epoch: 006/015 | Batch 760/782 | Cost: 0.0447\n",
            "Epoch: 006/015 | Batch 780/782 | Cost: 0.0779\n",
            "Epoch: 006/015 Train Acc.: 98.11% | Validation Acc.: 88.97%\n",
            "Time elapsed: 2.76 min\n",
            "Epoch: 007/015 | Batch 000/782 | Cost: 0.0295\n",
            "Epoch: 007/015 | Batch 020/782 | Cost: 0.0549\n",
            "Epoch: 007/015 | Batch 040/782 | Cost: 0.2379\n",
            "Epoch: 007/015 | Batch 060/782 | Cost: 0.0988\n",
            "Epoch: 007/015 | Batch 080/782 | Cost: 0.0301\n",
            "Epoch: 007/015 | Batch 100/782 | Cost: 0.1629\n",
            "Epoch: 007/015 | Batch 120/782 | Cost: 0.1305\n",
            "Epoch: 007/015 | Batch 140/782 | Cost: 0.0219\n",
            "Epoch: 007/015 | Batch 160/782 | Cost: 0.0333\n",
            "Epoch: 007/015 | Batch 180/782 | Cost: 0.0245\n",
            "Epoch: 007/015 | Batch 200/782 | Cost: 0.0442\n",
            "Epoch: 007/015 | Batch 220/782 | Cost: 0.0415\n",
            "Epoch: 007/015 | Batch 240/782 | Cost: 0.1287\n",
            "Epoch: 007/015 | Batch 260/782 | Cost: 0.1343\n",
            "Epoch: 007/015 | Batch 280/782 | Cost: 0.2309\n",
            "Epoch: 007/015 | Batch 300/782 | Cost: 0.0161\n",
            "Epoch: 007/015 | Batch 320/782 | Cost: 0.0517\n",
            "Epoch: 007/015 | Batch 340/782 | Cost: 0.0578\n",
            "Epoch: 007/015 | Batch 360/782 | Cost: 0.0181\n",
            "Epoch: 007/015 | Batch 380/782 | Cost: 0.0276\n",
            "Epoch: 007/015 | Batch 400/782 | Cost: 0.0823\n",
            "Epoch: 007/015 | Batch 420/782 | Cost: 0.0798\n",
            "Epoch: 007/015 | Batch 440/782 | Cost: 0.0462\n",
            "Epoch: 007/015 | Batch 460/782 | Cost: 0.0434\n",
            "Epoch: 007/015 | Batch 480/782 | Cost: 0.1323\n",
            "Epoch: 007/015 | Batch 500/782 | Cost: 0.0332\n",
            "Epoch: 007/015 | Batch 520/782 | Cost: 0.0706\n",
            "Epoch: 007/015 | Batch 540/782 | Cost: 0.0150\n",
            "Epoch: 007/015 | Batch 560/782 | Cost: 0.0642\n",
            "Epoch: 007/015 | Batch 580/782 | Cost: 0.0683\n",
            "Epoch: 007/015 | Batch 600/782 | Cost: 0.0199\n",
            "Epoch: 007/015 | Batch 620/782 | Cost: 0.2284\n",
            "Epoch: 007/015 | Batch 640/782 | Cost: 0.0630\n",
            "Epoch: 007/015 | Batch 660/782 | Cost: 0.0953\n",
            "Epoch: 007/015 | Batch 680/782 | Cost: 0.1531\n",
            "Epoch: 007/015 | Batch 700/782 | Cost: 0.0256\n",
            "Epoch: 007/015 | Batch 720/782 | Cost: 0.0890\n",
            "Epoch: 007/015 | Batch 740/782 | Cost: 0.0588\n",
            "Epoch: 007/015 | Batch 760/782 | Cost: 0.0817\n",
            "Epoch: 007/015 | Batch 780/782 | Cost: 0.1455\n",
            "Epoch: 007/015 Train Acc.: 98.85% | Validation Acc.: 90.05%\n",
            "Time elapsed: 3.21 min\n",
            "Epoch: 008/015 | Batch 000/782 | Cost: 0.0310\n",
            "Epoch: 008/015 | Batch 020/782 | Cost: 0.0175\n",
            "Epoch: 008/015 | Batch 040/782 | Cost: 0.0398\n",
            "Epoch: 008/015 | Batch 060/782 | Cost: 0.0316\n",
            "Epoch: 008/015 | Batch 080/782 | Cost: 0.0435\n",
            "Epoch: 008/015 | Batch 100/782 | Cost: 0.0134\n",
            "Epoch: 008/015 | Batch 120/782 | Cost: 0.0458\n",
            "Epoch: 008/015 | Batch 140/782 | Cost: 0.0083\n",
            "Epoch: 008/015 | Batch 160/782 | Cost: 0.0168\n",
            "Epoch: 008/015 | Batch 180/782 | Cost: 0.0072\n",
            "Epoch: 008/015 | Batch 200/782 | Cost: 0.0246\n",
            "Epoch: 008/015 | Batch 220/782 | Cost: 0.0266\n",
            "Epoch: 008/015 | Batch 240/782 | Cost: 0.0719\n",
            "Epoch: 008/015 | Batch 260/782 | Cost: 0.0213\n",
            "Epoch: 008/015 | Batch 280/782 | Cost: 0.0410\n",
            "Epoch: 008/015 | Batch 300/782 | Cost: 0.0261\n",
            "Epoch: 008/015 | Batch 320/782 | Cost: 0.0498\n",
            "Epoch: 008/015 | Batch 340/782 | Cost: 0.0982\n",
            "Epoch: 008/015 | Batch 360/782 | Cost: 0.0180\n",
            "Epoch: 008/015 | Batch 380/782 | Cost: 0.0668\n",
            "Epoch: 008/015 | Batch 400/782 | Cost: 0.0128\n",
            "Epoch: 008/015 | Batch 420/782 | Cost: 0.0462\n",
            "Epoch: 008/015 | Batch 440/782 | Cost: 0.0888\n",
            "Epoch: 008/015 | Batch 460/782 | Cost: 0.0084\n",
            "Epoch: 008/015 | Batch 480/782 | Cost: 0.0454\n",
            "Epoch: 008/015 | Batch 500/782 | Cost: 0.0199\n",
            "Epoch: 008/015 | Batch 520/782 | Cost: 0.0793\n",
            "Epoch: 008/015 | Batch 540/782 | Cost: 0.0130\n",
            "Epoch: 008/015 | Batch 560/782 | Cost: 0.0714\n",
            "Epoch: 008/015 | Batch 580/782 | Cost: 0.0643\n",
            "Epoch: 008/015 | Batch 600/782 | Cost: 0.0461\n",
            "Epoch: 008/015 | Batch 620/782 | Cost: 0.0168\n",
            "Epoch: 008/015 | Batch 640/782 | Cost: 0.1321\n",
            "Epoch: 008/015 | Batch 660/782 | Cost: 0.0654\n",
            "Epoch: 008/015 | Batch 680/782 | Cost: 0.0311\n",
            "Epoch: 008/015 | Batch 700/782 | Cost: 0.0621\n",
            "Epoch: 008/015 | Batch 720/782 | Cost: 0.1949\n",
            "Epoch: 008/015 | Batch 740/782 | Cost: 0.0556\n",
            "Epoch: 008/015 | Batch 760/782 | Cost: 0.0240\n",
            "Epoch: 008/015 | Batch 780/782 | Cost: 0.0313\n",
            "Epoch: 008/015 Train Acc.: 99.36% | Validation Acc.: 90.44%\n",
            "Time elapsed: 3.67 min\n",
            "Epoch: 009/015 | Batch 000/782 | Cost: 0.0181\n",
            "Epoch: 009/015 | Batch 020/782 | Cost: 0.0094\n",
            "Epoch: 009/015 | Batch 040/782 | Cost: 0.0224\n",
            "Epoch: 009/015 | Batch 060/782 | Cost: 0.0131\n",
            "Epoch: 009/015 | Batch 080/782 | Cost: 0.0485\n",
            "Epoch: 009/015 | Batch 100/782 | Cost: 0.0250\n",
            "Epoch: 009/015 | Batch 120/782 | Cost: 0.0034\n",
            "Epoch: 009/015 | Batch 140/782 | Cost: 0.0398\n",
            "Epoch: 009/015 | Batch 160/782 | Cost: 0.0339\n",
            "Epoch: 009/015 | Batch 180/782 | Cost: 0.0728\n",
            "Epoch: 009/015 | Batch 200/782 | Cost: 0.0610\n",
            "Epoch: 009/015 | Batch 220/782 | Cost: 0.0418\n",
            "Epoch: 009/015 | Batch 240/782 | Cost: 0.0173\n",
            "Epoch: 009/015 | Batch 260/782 | Cost: 0.0142\n",
            "Epoch: 009/015 | Batch 280/782 | Cost: 0.0084\n",
            "Epoch: 009/015 | Batch 300/782 | Cost: 0.0469\n",
            "Epoch: 009/015 | Batch 320/782 | Cost: 0.0436\n",
            "Epoch: 009/015 | Batch 340/782 | Cost: 0.0271\n",
            "Epoch: 009/015 | Batch 360/782 | Cost: 0.0463\n",
            "Epoch: 009/015 | Batch 380/782 | Cost: 0.0189\n",
            "Epoch: 009/015 | Batch 400/782 | Cost: 0.0453\n",
            "Epoch: 009/015 | Batch 420/782 | Cost: 0.0574\n",
            "Epoch: 009/015 | Batch 440/782 | Cost: 0.1401\n",
            "Epoch: 009/015 | Batch 460/782 | Cost: 0.0216\n",
            "Epoch: 009/015 | Batch 480/782 | Cost: 0.0241\n",
            "Epoch: 009/015 | Batch 500/782 | Cost: 0.0246\n",
            "Epoch: 009/015 | Batch 520/782 | Cost: 0.1892\n",
            "Epoch: 009/015 | Batch 540/782 | Cost: 0.0322\n",
            "Epoch: 009/015 | Batch 560/782 | Cost: 0.0039\n",
            "Epoch: 009/015 | Batch 580/782 | Cost: 0.0344\n",
            "Epoch: 009/015 | Batch 600/782 | Cost: 0.0735\n",
            "Epoch: 009/015 | Batch 620/782 | Cost: 0.0083\n",
            "Epoch: 009/015 | Batch 640/782 | Cost: 0.1042\n",
            "Epoch: 009/015 | Batch 660/782 | Cost: 0.0608\n",
            "Epoch: 009/015 | Batch 680/782 | Cost: 0.0199\n",
            "Epoch: 009/015 | Batch 700/782 | Cost: 0.0126\n",
            "Epoch: 009/015 | Batch 720/782 | Cost: 0.0213\n",
            "Epoch: 009/015 | Batch 740/782 | Cost: 0.0069\n",
            "Epoch: 009/015 | Batch 760/782 | Cost: 0.0487\n",
            "Epoch: 009/015 | Batch 780/782 | Cost: 0.0440\n",
            "Epoch: 009/015 Train Acc.: 99.26% | Validation Acc.: 90.37%\n",
            "Time elapsed: 4.13 min\n",
            "Epoch: 010/015 | Batch 000/782 | Cost: 0.0492\n",
            "Epoch: 010/015 | Batch 020/782 | Cost: 0.1053\n",
            "Epoch: 010/015 | Batch 040/782 | Cost: 0.0368\n",
            "Epoch: 010/015 | Batch 060/782 | Cost: 0.0133\n",
            "Epoch: 010/015 | Batch 080/782 | Cost: 0.1044\n",
            "Epoch: 010/015 | Batch 100/782 | Cost: 0.0421\n",
            "Epoch: 010/015 | Batch 120/782 | Cost: 0.0128\n",
            "Epoch: 010/015 | Batch 140/782 | Cost: 0.0112\n",
            "Epoch: 010/015 | Batch 160/782 | Cost: 0.0111\n",
            "Epoch: 010/015 | Batch 180/782 | Cost: 0.0167\n",
            "Epoch: 010/015 | Batch 200/782 | Cost: 0.0131\n",
            "Epoch: 010/015 | Batch 220/782 | Cost: 0.0245\n",
            "Epoch: 010/015 | Batch 240/782 | Cost: 0.0202\n",
            "Epoch: 010/015 | Batch 260/782 | Cost: 0.0124\n",
            "Epoch: 010/015 | Batch 280/782 | Cost: 0.0340\n",
            "Epoch: 010/015 | Batch 300/782 | Cost: 0.0459\n",
            "Epoch: 010/015 | Batch 320/782 | Cost: 0.0182\n",
            "Epoch: 010/015 | Batch 340/782 | Cost: 0.0148\n",
            "Epoch: 010/015 | Batch 360/782 | Cost: 0.0163\n",
            "Epoch: 010/015 | Batch 380/782 | Cost: 0.0070\n",
            "Epoch: 010/015 | Batch 400/782 | Cost: 0.0221\n",
            "Epoch: 010/015 | Batch 420/782 | Cost: 0.0273\n",
            "Epoch: 010/015 | Batch 440/782 | Cost: 0.0076\n",
            "Epoch: 010/015 | Batch 460/782 | Cost: 0.0231\n",
            "Epoch: 010/015 | Batch 480/782 | Cost: 0.0106\n",
            "Epoch: 010/015 | Batch 500/782 | Cost: 0.0092\n",
            "Epoch: 010/015 | Batch 520/782 | Cost: 0.0197\n",
            "Epoch: 010/015 | Batch 540/782 | Cost: 0.0509\n",
            "Epoch: 010/015 | Batch 560/782 | Cost: 0.0592\n",
            "Epoch: 010/015 | Batch 580/782 | Cost: 0.0366\n",
            "Epoch: 010/015 | Batch 600/782 | Cost: 0.0262\n",
            "Epoch: 010/015 | Batch 620/782 | Cost: 0.0068\n",
            "Epoch: 010/015 | Batch 640/782 | Cost: 0.0503\n",
            "Epoch: 010/015 | Batch 660/782 | Cost: 0.0188\n",
            "Epoch: 010/015 | Batch 680/782 | Cost: 0.0807\n",
            "Epoch: 010/015 | Batch 700/782 | Cost: 0.0286\n",
            "Epoch: 010/015 | Batch 720/782 | Cost: 0.0139\n",
            "Epoch: 010/015 | Batch 740/782 | Cost: 0.0044\n",
            "Epoch: 010/015 | Batch 760/782 | Cost: 0.0287\n",
            "Epoch: 010/015 | Batch 780/782 | Cost: 0.0067\n",
            "Epoch: 010/015 Train Acc.: 99.64% | Validation Acc.: 89.75%\n",
            "Time elapsed: 4.58 min\n",
            "Epoch: 011/015 | Batch 000/782 | Cost: 0.0138\n",
            "Epoch: 011/015 | Batch 020/782 | Cost: 0.0024\n",
            "Epoch: 011/015 | Batch 040/782 | Cost: 0.0109\n",
            "Epoch: 011/015 | Batch 060/782 | Cost: 0.0083\n",
            "Epoch: 011/015 | Batch 080/782 | Cost: 0.0358\n",
            "Epoch: 011/015 | Batch 100/782 | Cost: 0.0164\n",
            "Epoch: 011/015 | Batch 120/782 | Cost: 0.0151\n",
            "Epoch: 011/015 | Batch 140/782 | Cost: 0.0155\n",
            "Epoch: 011/015 | Batch 160/782 | Cost: 0.0055\n",
            "Epoch: 011/015 | Batch 180/782 | Cost: 0.0304\n",
            "Epoch: 011/015 | Batch 200/782 | Cost: 0.0098\n",
            "Epoch: 011/015 | Batch 220/782 | Cost: 0.0310\n",
            "Epoch: 011/015 | Batch 240/782 | Cost: 0.0054\n",
            "Epoch: 011/015 | Batch 260/782 | Cost: 0.0222\n",
            "Epoch: 011/015 | Batch 280/782 | Cost: 0.0308\n",
            "Epoch: 011/015 | Batch 300/782 | Cost: 0.0065\n",
            "Epoch: 011/015 | Batch 320/782 | Cost: 0.0087\n",
            "Epoch: 011/015 | Batch 340/782 | Cost: 0.0099\n",
            "Epoch: 011/015 | Batch 360/782 | Cost: 0.0096\n",
            "Epoch: 011/015 | Batch 380/782 | Cost: 0.0264\n",
            "Epoch: 011/015 | Batch 400/782 | Cost: 0.0658\n",
            "Epoch: 011/015 | Batch 420/782 | Cost: 0.0103\n",
            "Epoch: 011/015 | Batch 440/782 | Cost: 0.0306\n",
            "Epoch: 011/015 | Batch 460/782 | Cost: 0.0231\n",
            "Epoch: 011/015 | Batch 480/782 | Cost: 0.0114\n",
            "Epoch: 011/015 | Batch 500/782 | Cost: 0.0424\n",
            "Epoch: 011/015 | Batch 520/782 | Cost: 0.0392\n",
            "Epoch: 011/015 | Batch 540/782 | Cost: 0.0129\n",
            "Epoch: 011/015 | Batch 560/782 | Cost: 0.0391\n",
            "Epoch: 011/015 | Batch 580/782 | Cost: 0.0324\n",
            "Epoch: 011/015 | Batch 600/782 | Cost: 0.0329\n",
            "Epoch: 011/015 | Batch 620/782 | Cost: 0.0293\n",
            "Epoch: 011/015 | Batch 640/782 | Cost: 0.0045\n",
            "Epoch: 011/015 | Batch 660/782 | Cost: 0.0163\n",
            "Epoch: 011/015 | Batch 680/782 | Cost: 0.0057\n",
            "Epoch: 011/015 | Batch 700/782 | Cost: 0.0192\n",
            "Epoch: 011/015 | Batch 720/782 | Cost: 0.0098\n",
            "Epoch: 011/015 | Batch 740/782 | Cost: 0.0144\n",
            "Epoch: 011/015 | Batch 760/782 | Cost: 0.0124\n",
            "Epoch: 011/015 | Batch 780/782 | Cost: 0.0053\n",
            "Epoch: 011/015 Train Acc.: 99.41% | Validation Acc.: 89.84%\n",
            "Time elapsed: 5.04 min\n",
            "Epoch: 012/015 | Batch 000/782 | Cost: 0.0376\n",
            "Epoch: 012/015 | Batch 020/782 | Cost: 0.0246\n",
            "Epoch: 012/015 | Batch 040/782 | Cost: 0.0078\n",
            "Epoch: 012/015 | Batch 060/782 | Cost: 0.0094\n",
            "Epoch: 012/015 | Batch 080/782 | Cost: 0.0120\n",
            "Epoch: 012/015 | Batch 100/782 | Cost: 0.0284\n",
            "Epoch: 012/015 | Batch 120/782 | Cost: 0.0112\n",
            "Epoch: 012/015 | Batch 140/782 | Cost: 0.0124\n",
            "Epoch: 012/015 | Batch 160/782 | Cost: 0.0245\n",
            "Epoch: 012/015 | Batch 180/782 | Cost: 0.0114\n",
            "Epoch: 012/015 | Batch 200/782 | Cost: 0.0045\n",
            "Epoch: 012/015 | Batch 220/782 | Cost: 0.0116\n",
            "Epoch: 012/015 | Batch 240/782 | Cost: 0.0162\n",
            "Epoch: 012/015 | Batch 260/782 | Cost: 0.0054\n",
            "Epoch: 012/015 | Batch 280/782 | Cost: 0.0069\n",
            "Epoch: 012/015 | Batch 300/782 | Cost: 0.0159\n",
            "Epoch: 012/015 | Batch 320/782 | Cost: 0.0072\n",
            "Epoch: 012/015 | Batch 340/782 | Cost: 0.0272\n",
            "Epoch: 012/015 | Batch 360/782 | Cost: 0.0033\n",
            "Epoch: 012/015 | Batch 380/782 | Cost: 0.0025\n",
            "Epoch: 012/015 | Batch 400/782 | Cost: 0.0073\n",
            "Epoch: 012/015 | Batch 420/782 | Cost: 0.0151\n",
            "Epoch: 012/015 | Batch 440/782 | Cost: 0.0379\n",
            "Epoch: 012/015 | Batch 460/782 | Cost: 0.0045\n",
            "Epoch: 012/015 | Batch 480/782 | Cost: 0.0046\n",
            "Epoch: 012/015 | Batch 500/782 | Cost: 0.0049\n",
            "Epoch: 012/015 | Batch 520/782 | Cost: 0.0038\n",
            "Epoch: 012/015 | Batch 540/782 | Cost: 0.0053\n",
            "Epoch: 012/015 | Batch 560/782 | Cost: 0.0127\n",
            "Epoch: 012/015 | Batch 580/782 | Cost: 0.0071\n",
            "Epoch: 012/015 | Batch 600/782 | Cost: 0.0115\n",
            "Epoch: 012/015 | Batch 620/782 | Cost: 0.0301\n",
            "Epoch: 012/015 | Batch 640/782 | Cost: 0.0079\n",
            "Epoch: 012/015 | Batch 660/782 | Cost: 0.0033\n",
            "Epoch: 012/015 | Batch 680/782 | Cost: 0.0236\n",
            "Epoch: 012/015 | Batch 700/782 | Cost: 0.0233\n",
            "Epoch: 012/015 | Batch 720/782 | Cost: 0.0183\n",
            "Epoch: 012/015 | Batch 740/782 | Cost: 0.0231\n",
            "Epoch: 012/015 | Batch 760/782 | Cost: 0.0038\n",
            "Epoch: 012/015 | Batch 780/782 | Cost: 0.0072\n",
            "Epoch: 012/015 Train Acc.: 99.84% | Validation Acc.: 90.79%\n",
            "Time elapsed: 5.49 min\n",
            "Epoch: 013/015 | Batch 000/782 | Cost: 0.0086\n",
            "Epoch: 013/015 | Batch 020/782 | Cost: 0.0319\n",
            "Epoch: 013/015 | Batch 040/782 | Cost: 0.0033\n",
            "Epoch: 013/015 | Batch 060/782 | Cost: 0.0110\n",
            "Epoch: 013/015 | Batch 080/782 | Cost: 0.0120\n",
            "Epoch: 013/015 | Batch 100/782 | Cost: 0.0043\n",
            "Epoch: 013/015 | Batch 120/782 | Cost: 0.0108\n",
            "Epoch: 013/015 | Batch 140/782 | Cost: 0.0057\n",
            "Epoch: 013/015 | Batch 160/782 | Cost: 0.0077\n",
            "Epoch: 013/015 | Batch 180/782 | Cost: 0.0045\n",
            "Epoch: 013/015 | Batch 200/782 | Cost: 0.0216\n",
            "Epoch: 013/015 | Batch 220/782 | Cost: 0.0077\n",
            "Epoch: 013/015 | Batch 240/782 | Cost: 0.0020\n",
            "Epoch: 013/015 | Batch 260/782 | Cost: 0.0172\n",
            "Epoch: 013/015 | Batch 280/782 | Cost: 0.0109\n",
            "Epoch: 013/015 | Batch 300/782 | Cost: 0.1181\n",
            "Epoch: 013/015 | Batch 320/782 | Cost: 0.0101\n",
            "Epoch: 013/015 | Batch 340/782 | Cost: 0.0123\n",
            "Epoch: 013/015 | Batch 360/782 | Cost: 0.0066\n",
            "Epoch: 013/015 | Batch 380/782 | Cost: 0.0144\n",
            "Epoch: 013/015 | Batch 400/782 | Cost: 0.0069\n",
            "Epoch: 013/015 | Batch 420/782 | Cost: 0.0045\n",
            "Epoch: 013/015 | Batch 440/782 | Cost: 0.0066\n",
            "Epoch: 013/015 | Batch 460/782 | Cost: 0.0080\n",
            "Epoch: 013/015 | Batch 480/782 | Cost: 0.0172\n",
            "Epoch: 013/015 | Batch 500/782 | Cost: 0.0127\n",
            "Epoch: 013/015 | Batch 520/782 | Cost: 0.0094\n",
            "Epoch: 013/015 | Batch 540/782 | Cost: 0.0324\n",
            "Epoch: 013/015 | Batch 560/782 | Cost: 0.0109\n",
            "Epoch: 013/015 | Batch 580/782 | Cost: 0.0180\n",
            "Epoch: 013/015 | Batch 600/782 | Cost: 0.0181\n",
            "Epoch: 013/015 | Batch 620/782 | Cost: 0.0037\n",
            "Epoch: 013/015 | Batch 640/782 | Cost: 0.0123\n",
            "Epoch: 013/015 | Batch 660/782 | Cost: 0.0187\n",
            "Epoch: 013/015 | Batch 680/782 | Cost: 0.0327\n",
            "Epoch: 013/015 | Batch 700/782 | Cost: 0.0099\n",
            "Epoch: 013/015 | Batch 720/782 | Cost: 0.0181\n",
            "Epoch: 013/015 | Batch 740/782 | Cost: 0.0076\n",
            "Epoch: 013/015 | Batch 760/782 | Cost: 0.0033\n",
            "Epoch: 013/015 | Batch 780/782 | Cost: 0.0059\n",
            "Epoch: 013/015 Train Acc.: 99.86% | Validation Acc.: 90.53%\n",
            "Time elapsed: 5.95 min\n",
            "Epoch: 014/015 | Batch 000/782 | Cost: 0.0014\n",
            "Epoch: 014/015 | Batch 020/782 | Cost: 0.0029\n",
            "Epoch: 014/015 | Batch 040/782 | Cost: 0.0029\n",
            "Epoch: 014/015 | Batch 060/782 | Cost: 0.0033\n",
            "Epoch: 014/015 | Batch 080/782 | Cost: 0.0097\n",
            "Epoch: 014/015 | Batch 100/782 | Cost: 0.0059\n",
            "Epoch: 014/015 | Batch 120/782 | Cost: 0.0196\n",
            "Epoch: 014/015 | Batch 140/782 | Cost: 0.0026\n",
            "Epoch: 014/015 | Batch 160/782 | Cost: 0.0025\n",
            "Epoch: 014/015 | Batch 180/782 | Cost: 0.0093\n",
            "Epoch: 014/015 | Batch 200/782 | Cost: 0.0063\n",
            "Epoch: 014/015 | Batch 220/782 | Cost: 0.0088\n",
            "Epoch: 014/015 | Batch 240/782 | Cost: 0.0064\n",
            "Epoch: 014/015 | Batch 260/782 | Cost: 0.0103\n",
            "Epoch: 014/015 | Batch 280/782 | Cost: 0.0164\n",
            "Epoch: 014/015 | Batch 300/782 | Cost: 0.0049\n",
            "Epoch: 014/015 | Batch 320/782 | Cost: 0.0050\n",
            "Epoch: 014/015 | Batch 340/782 | Cost: 0.0065\n",
            "Epoch: 014/015 | Batch 360/782 | Cost: 0.0055\n",
            "Epoch: 014/015 | Batch 380/782 | Cost: 0.0051\n",
            "Epoch: 014/015 | Batch 400/782 | Cost: 0.0041\n",
            "Epoch: 014/015 | Batch 420/782 | Cost: 0.0062\n",
            "Epoch: 014/015 | Batch 440/782 | Cost: 0.0025\n",
            "Epoch: 014/015 | Batch 460/782 | Cost: 0.0045\n",
            "Epoch: 014/015 | Batch 480/782 | Cost: 0.0049\n",
            "Epoch: 014/015 | Batch 500/782 | Cost: 0.0070\n",
            "Epoch: 014/015 | Batch 520/782 | Cost: 0.0030\n",
            "Epoch: 014/015 | Batch 540/782 | Cost: 0.0032\n",
            "Epoch: 014/015 | Batch 560/782 | Cost: 0.0039\n",
            "Epoch: 014/015 | Batch 580/782 | Cost: 0.0220\n",
            "Epoch: 014/015 | Batch 600/782 | Cost: 0.0025\n",
            "Epoch: 014/015 | Batch 620/782 | Cost: 0.0035\n",
            "Epoch: 014/015 | Batch 640/782 | Cost: 0.0158\n",
            "Epoch: 014/015 | Batch 660/782 | Cost: 0.0056\n",
            "Epoch: 014/015 | Batch 680/782 | Cost: 0.0063\n",
            "Epoch: 014/015 | Batch 700/782 | Cost: 0.0040\n",
            "Epoch: 014/015 | Batch 720/782 | Cost: 0.0059\n",
            "Epoch: 014/015 | Batch 740/782 | Cost: 0.0030\n",
            "Epoch: 014/015 | Batch 760/782 | Cost: 0.0065\n",
            "Epoch: 014/015 | Batch 780/782 | Cost: 0.0024\n",
            "Epoch: 014/015 Train Acc.: 99.39% | Validation Acc.: 90.11%\n",
            "Time elapsed: 6.41 min\n",
            "Epoch: 015/015 | Batch 000/782 | Cost: 0.0202\n",
            "Epoch: 015/015 | Batch 020/782 | Cost: 0.0022\n",
            "Epoch: 015/015 | Batch 040/782 | Cost: 0.0170\n",
            "Epoch: 015/015 | Batch 060/782 | Cost: 0.0051\n",
            "Epoch: 015/015 | Batch 080/782 | Cost: 0.0025\n",
            "Epoch: 015/015 | Batch 100/782 | Cost: 0.0208\n",
            "Epoch: 015/015 | Batch 120/782 | Cost: 0.0143\n",
            "Epoch: 015/015 | Batch 140/782 | Cost: 0.0017\n",
            "Epoch: 015/015 | Batch 160/782 | Cost: 0.0070\n",
            "Epoch: 015/015 | Batch 180/782 | Cost: 0.0141\n",
            "Epoch: 015/015 | Batch 200/782 | Cost: 0.0034\n",
            "Epoch: 015/015 | Batch 220/782 | Cost: 0.0072\n",
            "Epoch: 015/015 | Batch 240/782 | Cost: 0.0021\n",
            "Epoch: 015/015 | Batch 260/782 | Cost: 0.0047\n",
            "Epoch: 015/015 | Batch 280/782 | Cost: 0.0091\n",
            "Epoch: 015/015 | Batch 300/782 | Cost: 0.0111\n",
            "Epoch: 015/015 | Batch 320/782 | Cost: 0.0063\n",
            "Epoch: 015/015 | Batch 340/782 | Cost: 0.0059\n",
            "Epoch: 015/015 | Batch 360/782 | Cost: 0.0060\n",
            "Epoch: 015/015 | Batch 380/782 | Cost: 0.0044\n",
            "Epoch: 015/015 | Batch 400/782 | Cost: 0.0286\n",
            "Epoch: 015/015 | Batch 420/782 | Cost: 0.0134\n",
            "Epoch: 015/015 | Batch 440/782 | Cost: 0.0097\n",
            "Epoch: 015/015 | Batch 460/782 | Cost: 0.0409\n",
            "Epoch: 015/015 | Batch 480/782 | Cost: 0.0067\n",
            "Epoch: 015/015 | Batch 500/782 | Cost: 0.0046\n",
            "Epoch: 015/015 | Batch 520/782 | Cost: 0.0052\n",
            "Epoch: 015/015 | Batch 540/782 | Cost: 0.0030\n",
            "Epoch: 015/015 | Batch 560/782 | Cost: 0.0066\n",
            "Epoch: 015/015 | Batch 580/782 | Cost: 0.0026\n",
            "Epoch: 015/015 | Batch 600/782 | Cost: 0.0064\n",
            "Epoch: 015/015 | Batch 620/782 | Cost: 0.0034\n",
            "Epoch: 015/015 | Batch 640/782 | Cost: 0.0018\n",
            "Epoch: 015/015 | Batch 660/782 | Cost: 0.0050\n",
            "Epoch: 015/015 | Batch 680/782 | Cost: 0.0143\n",
            "Epoch: 015/015 | Batch 700/782 | Cost: 0.0242\n",
            "Epoch: 015/015 | Batch 720/782 | Cost: 0.0046\n",
            "Epoch: 015/015 | Batch 740/782 | Cost: 0.0019\n",
            "Epoch: 015/015 | Batch 760/782 | Cost: 0.0052\n",
            "Epoch: 015/015 | Batch 780/782 | Cost: 0.0063\n",
            "Epoch: 015/015 Train Acc.: 99.95% | Validation Acc.: 90.54%\n",
            "Time elapsed: 6.86 min\n",
            "Total Training Time: 6.86 min\n"
          ],
          "name": "stdout"
        }
      ]
    },
    {
      "cell_type": "markdown",
      "metadata": {
        "id": "OaYvbILZTzsO"
      },
      "source": [
        "#### Please define a function for the testing on validation/test set, which returns the averaged loss on testing set and accuracy. "
      ]
    },
    {
      "cell_type": "code",
      "metadata": {
        "id": "Yr0r_P2QTzLb",
        "outputId": "0e651612-7c78-4ade-bf48-4ac46906b991",
        "colab": {
          "base_uri": "https://localhost:8080/"
        }
      },
      "source": [
        "def compute_accuracy(net, data_loader):\n",
        "    correct_pred, num_examples = 0, 0\n",
        "    with torch.no_grad():\n",
        "        for features, targets in data_loader:\n",
        "            features = features.view(-1, 28*28)\n",
        "            _,outputs = net.forward(features)\n",
        "            predicted_labels = torch.argmax(outputs, 1)\n",
        "            num_examples += targets.size(0)\n",
        "            correct_pred += (predicted_labels == targets).sum()\n",
        "        return correct_pred.float()/num_examples * 100\n",
        "    \n",
        "print('Training Accuracy: %.2f' % compute_accuracy(model, train_loader))\n",
        "print('Test Accuracy: %.2f' % compute_accuracy(model, test_loader))"
      ],
      "execution_count": 11,
      "outputs": [
        {
          "output_type": "stream",
          "text": [
            "/usr/local/lib/python3.7/dist-packages/torch/nn/functional.py:1709: UserWarning: nn.functional.sigmoid is deprecated. Use torch.sigmoid instead.\n",
            "  warnings.warn(\"nn.functional.sigmoid is deprecated. Use torch.sigmoid instead.\")\n"
          ],
          "name": "stderr"
        },
        {
          "output_type": "stream",
          "text": [
            "Training Accuracy: 99.95\n",
            "Test Accuracy: 90.54\n"
          ],
          "name": "stdout"
        }
      ]
    },
    {
      "cell_type": "markdown",
      "metadata": {
        "id": "GvEQJXIiUyeo"
      },
      "source": [
        "#### Visualize training progress\n",
        "\n",
        "You are strongly recommended to check out [tensorboard for pytorch](https://pytorch.org/docs/stable/tensorboard.html), a huge life saver. \n",
        "\n",
        "but here for the assignment, you just need to visualize the training process by visualize the following components\n",
        "1.  training loss with respect to epochs like we did before. \n",
        "2. plot validation accuracy with repect to epochs \n",
        "\n",
        "Please include this two scatter plots in one figure with a clear legend."
      ]
    },
    {
      "cell_type": "code",
      "metadata": {
        "id": "u1Bb0-XLqdu2"
      },
      "source": [
        "\n",
        "%matplotlib inline\n",
        "import matplotlib\n",
        "import matplotlib.pyplot as plt"
      ],
      "execution_count": 12,
      "outputs": []
    },
    {
      "cell_type": "code",
      "metadata": {
        "id": "k-uPFGjQqlK3",
        "outputId": "2373982f-8af7-4bb9-99bc-a4ea802f954d",
        "colab": {
          "base_uri": "https://localhost:8080/",
          "height": 123
        }
      },
      "source": [
        "\n",
        "for features, targets in test_loader:\n",
        "    break\n",
        "    \n",
        "fig, ax = plt.subplots(1, 4)\n",
        "for i in range(4):\n",
        "    ax[i].imshow(features[i].view(28, 28), cmap=matplotlib.cm.binary)\n",
        "\n",
        "plt.show()"
      ],
      "execution_count": 13,
      "outputs": [
        {
          "output_type": "display_data",
          "data": {
            "image/png": "[encoded data removed]",
            "text/plain": [
              "<Figure size 432x288 with 4 Axes>"
            ]
          },
          "metadata": {
            "tags": [],
            "needs_background": "light"
          }
        }
      ]
    },
    {
      "cell_type": "code",
      "metadata": {
        "id": "0VASSJ0HZMjd",
        "outputId": "ae85f1be-6516-41c1-93fe-d1a818fcbbfb",
        "colab": {
          "base_uri": "https://localhost:8080/",
          "height": 279
        }
      },
      "source": [
        "plt.plot(range(1, NUM_EPOCHS+1), train_loss_lst, label='Training loss')\n",
        "plt.plot(range(1, NUM_EPOCHS+1), valid_loss_lst, label='Validation loss')\n",
        "plt.legend(loc='upper right')\n",
        "plt.ylabel('Cross entropy')\n",
        "plt.xlabel('Epoch')\n",
        "plt.show()"
      ],
      "execution_count": 14,
      "outputs": [
        {
          "output_type": "display_data",
          "data": {
            "image/png": "[encoded data removed]",
            "text/plain": [
              "<Figure size 432x288 with 1 Axes>"
            ]
          },
          "metadata": {
            "tags": [],
            "needs_background": "light"
          }
        }
      ]
    },
    {
      "cell_type": "code",
      "metadata": {
        "id": "7WRVL_-RqtsE",
        "outputId": "cc374cc6-debe-444c-d680-feed5ef27223",
        "colab": {
          "base_uri": "https://localhost:8080/",
          "height": 279
        }
      },
      "source": [
        "\n",
        "plt.plot(range(1, NUM_EPOCHS+1), train_acc_lst, label='Training accuracy')\n",
        "plt.plot(range(1, NUM_EPOCHS+1), valid_acc_lst, label='Validation accuracy')\n",
        "plt.legend(loc='upper left')\n",
        "plt.ylabel('Cross entropy')\n",
        "plt.xlabel('Epoch')\n",
        "plt.show()"
      ],
      "execution_count": 15,
      "outputs": [
        {
          "output_type": "display_data",
          "data": {
            "image/png": "[encoded data removed]",
            "text/plain": [
              "<Figure size 432x288 with 1 Axes>"
            ]
          },
          "metadata": {
            "tags": [],
            "needs_background": "light"
          }
        }
      ]
    },
    {
      "cell_type": "markdown",
      "metadata": {
        "id": "63M2QUPtZNWo"
      },
      "source": [
        "#### Now how will you averaged accuracy on test set?"
      ]
    },
    {
      "cell_type": "code",
      "metadata": {
        "id": "bRLGDaoBZT_f",
        "outputId": "e628959d-069a-4748-f46e-625dd67b8d64",
        "colab": {
          "base_uri": "https://localhost:8080/"
        }
      },
      "source": [
        "model.eval()\n",
        "with torch.set_grad_enabled(False): # save memory during inference\n",
        "    test_acc, test_loss = compute_accuracy_and_loss(model, test_loader,device)\n",
        "    print(f'Test accuracy: {test_acc:.2f}%')"
      ],
      "execution_count": 16,
      "outputs": [
        {
          "output_type": "stream",
          "text": [
            "/usr/local/lib/python3.7/dist-packages/torch/nn/functional.py:1709: UserWarning: nn.functional.sigmoid is deprecated. Use torch.sigmoid instead.\n",
            "  warnings.warn(\"nn.functional.sigmoid is deprecated. Use torch.sigmoid instead.\")\n"
          ],
          "name": "stderr"
        },
        {
          "output_type": "stream",
          "text": [
            "Test accuracy: 90.54%\n"
          ],
          "name": "stdout"
        }
      ]
    },
    {
      "cell_type": "markdown",
      "metadata": {
        "id": "iACUtYdDVZnz"
      },
      "source": [
        "#### Now how will you get the class-wise accuracy on test set?"
      ]
    },
    {
      "cell_type": "code",
      "metadata": {
        "id": "ytix_TI_Uobv"
      },
      "source": [
        ""
      ],
      "execution_count": 16,
      "outputs": []
    },
    {
      "cell_type": "code",
      "metadata": {
        "id": "D7gdnuAgVXxG"
      },
      "source": [
        ""
      ],
      "execution_count": 16,
      "outputs": []
    },
    {
      "cell_type": "code",
      "metadata": {
        "id": "UdobIUEdUwgV"
      },
      "source": [
        ""
      ],
      "execution_count": 16,
      "outputs": []
    },
    {
      "cell_type": "markdown",
      "metadata": {
        "id": "QccaL46uVpQd"
      },
      "source": [
        "### Use a simple CNN model :) \n",
        "The model structure is "
      ]
    },
    {
      "cell_type": "markdown",
      "metadata": {
        "id": "5yWKIWgDWtLa"
      },
      "source": [
        "#### Complete training and testing similar to the MLP model\n",
        "1. Configure your CNN model, optimizer, and scheduler. \n",
        "2. modify training and testing function \n",
        "3. train the model and test the validation performance each epoch. \n",
        "4. Visualize training process, by training loss and validation accuracy.\n",
        "5. Report averaged loss and accuracy on test set\n",
        "6. Report the class-wise accuracy on test set. "
      ]
    },
    {
      "cell_type": "code",
      "metadata": {
        "id": "KkIYtQsPsq8u"
      },
      "source": [
        "import os\n",
        "import time\n",
        "\n",
        "import numpy as np\n",
        "import pandas as pd\n",
        "\n",
        "import torch\n",
        "import torch.nn as nn\n",
        "import torch.nn.functional as F\n",
        "from torch.utils.data import DataLoader\n",
        "\n",
        "from torchvision import datasets\n",
        "from torchvision import transforms\n",
        "\n",
        "import matplotlib.pyplot as plt\n",
        "from PIL import Image\n",
        "\n",
        "\n",
        "if torch.cuda.is_available():\n",
        "    torch.backends.cudnn.deterministic = True"
      ],
      "execution_count": 35,
      "outputs": []
    },
    {
      "cell_type": "code",
      "metadata": {
        "id": "n_a_nQutHUAI"
      },
      "source": [
        "\n",
        "##########################\n",
        "### SETTINGS\n",
        "##########################\n",
        "\n",
        "# Hyperparameters\n",
        "RANDOM_SEED = 1\n",
        "LEARNING_RATE = 0.001\n",
        "BATCH_SIZE = 128\n",
        "NUM_EPOCHS = 10\n",
        "\n",
        "# Architecture\n",
        "NUM_FEATURES = 32*32\n",
        "NUM_CLASSES = 10\n",
        "\n",
        "# Other\n",
        "if torch.cuda.is_available():\n",
        "    DEVICE = \"cuda:0\"\n",
        "else:\n",
        "    DEVICE = \"cpu\"\n",
        "    \n",
        "GRAYSCALE = True"
      ],
      "execution_count": 36,
      "outputs": []
    },
    {
      "cell_type": "code",
      "metadata": {
        "id": "QpKJhu11Hbuo"
      },
      "source": [
        "##########################\n",
        "### MNIST DATASET\n",
        "##########################\n",
        "\n",
        "resize_transform = transforms.Compose([transforms.Resize((32, 32)),\n",
        "                                       transforms.ToTensor(),\n",
        "                                       transforms.Normalize((0.5,), (0.5,))])\n",
        "\n",
        "# Note transforms.ToTensor() scales input images\n",
        "# to 0-1 range\n",
        "train_dataset = datasets.MNIST(root='data', \n",
        "                               train=True, \n",
        "                               transform=resize_transform,\n",
        "                               download=True)\n",
        "\n",
        "test_dataset = datasets.MNIST(root='data', \n",
        "                              train=False, \n",
        "                              transform=resize_transform)\n",
        "\n",
        "\n",
        "train_loader = DataLoader(dataset=train_dataset, \n",
        "                          batch_size=BATCH_SIZE, \n",
        "                          shuffle=True)\n",
        "\n",
        "test_loader = DataLoader(dataset=test_dataset, \n",
        "                         batch_size=BATCH_SIZE, \n",
        "                         shuffle=False)"
      ],
      "execution_count": null,
      "outputs": []
    },
    {
      "cell_type": "code",
      "metadata": {
        "id": "IjWHiVL0HnAh"
      },
      "source": [
        "# Checking the dataset\n",
        "for images, labels in train_loader:  \n",
        "    print('Image batch dimensions:', images.shape)\n",
        "    print('Image label dimensions:', labels.shape)\n",
        "    break"
      ],
      "execution_count": null,
      "outputs": []
    },
    {
      "cell_type": "code",
      "metadata": {
        "id": "0AJwT1bqtbYD",
        "outputId": "43b76471-ba8c-4780-802d-b7220e271c3f",
        "colab": {
          "base_uri": "https://localhost:8080/",
          "height": 374
        }
      },
      "source": [
        "device = torch.device(DEVICE)\n",
        "torch.manual_seed(0)\n",
        "\n",
        "for epoch in range(2):\n",
        "\n",
        "    for batch_idx, (x, y) in enumerate(train_loader):\n",
        "        \n",
        "        print('Epoch:', epoch+1, end='')\n",
        "        print(' | Batch index:', batch_idx, end='')\n",
        "        print(' | Batch size:', y.size()[0])\n",
        "        \n",
        "        x = x.to(device)\n",
        "        y = y.to(device)\n",
        "        break"
      ],
      "execution_count": 22,
      "outputs": [
        {
          "output_type": "error",
          "ename": "TypeError",
          "evalue": "ignored",
          "traceback": [
            "\u001b[0;31m---------------------------------------------------------------------------\u001b[0m",
            "\u001b[0;31mTypeError\u001b[0m                                 Traceback (most recent call last)",
            "\u001b[0;32m<ipython-input-22-85fc19a1f296>\u001b[0m in \u001b[0;36m<module>\u001b[0;34m()\u001b[0m\n\u001b[1;32m      4\u001b[0m \u001b[0;32mfor\u001b[0m \u001b[0mepoch\u001b[0m \u001b[0;32min\u001b[0m \u001b[0mrange\u001b[0m\u001b[0;34m(\u001b[0m\u001b[0;36m2\u001b[0m\u001b[0;34m)\u001b[0m\u001b[0;34m:\u001b[0m\u001b[0;34m\u001b[0m\u001b[0;34m\u001b[0m\u001b[0m\n\u001b[1;32m      5\u001b[0m \u001b[0;34m\u001b[0m\u001b[0m\n\u001b[0;32m----> 6\u001b[0;31m     \u001b[0;32mfor\u001b[0m \u001b[0mbatch_idx\u001b[0m\u001b[0;34m,\u001b[0m \u001b[0;34m(\u001b[0m\u001b[0mx\u001b[0m\u001b[0;34m,\u001b[0m \u001b[0my\u001b[0m\u001b[0;34m)\u001b[0m \u001b[0;32min\u001b[0m \u001b[0menumerate\u001b[0m\u001b[0;34m(\u001b[0m\u001b[0mtrain_loader\u001b[0m\u001b[0;34m)\u001b[0m\u001b[0;34m:\u001b[0m\u001b[0;34m\u001b[0m\u001b[0;34m\u001b[0m\u001b[0m\n\u001b[0m\u001b[1;32m      7\u001b[0m \u001b[0;34m\u001b[0m\u001b[0m\n\u001b[1;32m      8\u001b[0m         \u001b[0mprint\u001b[0m\u001b[0;34m(\u001b[0m\u001b[0;34m'Epoch:'\u001b[0m\u001b[0;34m,\u001b[0m \u001b[0mepoch\u001b[0m\u001b[0;34m+\u001b[0m\u001b[0;36m1\u001b[0m\u001b[0;34m,\u001b[0m \u001b[0mend\u001b[0m\u001b[0;34m=\u001b[0m\u001b[0;34m''\u001b[0m\u001b[0;34m)\u001b[0m\u001b[0;34m\u001b[0m\u001b[0;34m\u001b[0m\u001b[0m\n",
            "\u001b[0;32m/usr/local/lib/python3.7/dist-packages/torch/utils/data/dataloader.py\u001b[0m in \u001b[0;36m__next__\u001b[0;34m(self)\u001b[0m\n\u001b[1;32m    515\u001b[0m             \u001b[0;32mif\u001b[0m \u001b[0mself\u001b[0m\u001b[0;34m.\u001b[0m\u001b[0m_sampler_iter\u001b[0m \u001b[0;32mis\u001b[0m \u001b[0;32mNone\u001b[0m\u001b[0;34m:\u001b[0m\u001b[0;34m\u001b[0m\u001b[0;34m\u001b[0m\u001b[0m\n\u001b[1;32m    516\u001b[0m                 \u001b[0mself\u001b[0m\u001b[0;34m.\u001b[0m\u001b[0m_reset\u001b[0m\u001b[0;34m(\u001b[0m\u001b[0;34m)\u001b[0m\u001b[0;34m\u001b[0m\u001b[0;34m\u001b[0m\u001b[0m\n\u001b[0;32m--> 517\u001b[0;31m             \u001b[0mdata\u001b[0m \u001b[0;34m=\u001b[0m \u001b[0mself\u001b[0m\u001b[0;34m.\u001b[0m\u001b[0m_next_data\u001b[0m\u001b[0;34m(\u001b[0m\u001b[0;34m)\u001b[0m\u001b[0;34m\u001b[0m\u001b[0;34m\u001b[0m\u001b[0m\n\u001b[0m\u001b[1;32m    518\u001b[0m             \u001b[0mself\u001b[0m\u001b[0;34m.\u001b[0m\u001b[0m_num_yielded\u001b[0m \u001b[0;34m+=\u001b[0m \u001b[0;36m1\u001b[0m\u001b[0;34m\u001b[0m\u001b[0;34m\u001b[0m\u001b[0m\n\u001b[1;32m    519\u001b[0m             \u001b[0;32mif\u001b[0m \u001b[0mself\u001b[0m\u001b[0;34m.\u001b[0m\u001b[0m_dataset_kind\u001b[0m \u001b[0;34m==\u001b[0m \u001b[0m_DatasetKind\u001b[0m\u001b[0;34m.\u001b[0m\u001b[0mIterable\u001b[0m \u001b[0;32mand\u001b[0m\u001b[0;31m \u001b[0m\u001b[0;31m\\\u001b[0m\u001b[0;34m\u001b[0m\u001b[0;34m\u001b[0m\u001b[0m\n",
            "\u001b[0;32m/usr/local/lib/python3.7/dist-packages/torch/utils/data/dataloader.py\u001b[0m in \u001b[0;36m_next_data\u001b[0;34m(self)\u001b[0m\n\u001b[1;32m    555\u001b[0m     \u001b[0;32mdef\u001b[0m \u001b[0m_next_data\u001b[0m\u001b[0;34m(\u001b[0m\u001b[0mself\u001b[0m\u001b[0;34m)\u001b[0m\u001b[0;34m:\u001b[0m\u001b[0;34m\u001b[0m\u001b[0;34m\u001b[0m\u001b[0m\n\u001b[1;32m    556\u001b[0m         \u001b[0mindex\u001b[0m \u001b[0;34m=\u001b[0m \u001b[0mself\u001b[0m\u001b[0;34m.\u001b[0m\u001b[0m_next_index\u001b[0m\u001b[0;34m(\u001b[0m\u001b[0;34m)\u001b[0m  \u001b[0;31m# may raise StopIteration\u001b[0m\u001b[0;34m\u001b[0m\u001b[0;34m\u001b[0m\u001b[0m\n\u001b[0;32m--> 557\u001b[0;31m         \u001b[0mdata\u001b[0m \u001b[0;34m=\u001b[0m \u001b[0mself\u001b[0m\u001b[0;34m.\u001b[0m\u001b[0m_dataset_fetcher\u001b[0m\u001b[0;34m.\u001b[0m\u001b[0mfetch\u001b[0m\u001b[0;34m(\u001b[0m\u001b[0mindex\u001b[0m\u001b[0;34m)\u001b[0m  \u001b[0;31m# may raise StopIteration\u001b[0m\u001b[0;34m\u001b[0m\u001b[0;34m\u001b[0m\u001b[0m\n\u001b[0m\u001b[1;32m    558\u001b[0m         \u001b[0;32mif\u001b[0m \u001b[0mself\u001b[0m\u001b[0;34m.\u001b[0m\u001b[0m_pin_memory\u001b[0m\u001b[0;34m:\u001b[0m\u001b[0;34m\u001b[0m\u001b[0;34m\u001b[0m\u001b[0m\n\u001b[1;32m    559\u001b[0m             \u001b[0mdata\u001b[0m \u001b[0;34m=\u001b[0m \u001b[0m_utils\u001b[0m\u001b[0;34m.\u001b[0m\u001b[0mpin_memory\u001b[0m\u001b[0;34m.\u001b[0m\u001b[0mpin_memory\u001b[0m\u001b[0;34m(\u001b[0m\u001b[0mdata\u001b[0m\u001b[0;34m)\u001b[0m\u001b[0;34m\u001b[0m\u001b[0;34m\u001b[0m\u001b[0m\n",
            "\u001b[0;32m/usr/local/lib/python3.7/dist-packages/torch/utils/data/_utils/fetch.py\u001b[0m in \u001b[0;36mfetch\u001b[0;34m(self, possibly_batched_index)\u001b[0m\n\u001b[1;32m     42\u001b[0m     \u001b[0;32mdef\u001b[0m \u001b[0mfetch\u001b[0m\u001b[0;34m(\u001b[0m\u001b[0mself\u001b[0m\u001b[0;34m,\u001b[0m \u001b[0mpossibly_batched_index\u001b[0m\u001b[0;34m)\u001b[0m\u001b[0;34m:\u001b[0m\u001b[0;34m\u001b[0m\u001b[0;34m\u001b[0m\u001b[0m\n\u001b[1;32m     43\u001b[0m         \u001b[0;32mif\u001b[0m \u001b[0mself\u001b[0m\u001b[0;34m.\u001b[0m\u001b[0mauto_collation\u001b[0m\u001b[0;34m:\u001b[0m\u001b[0;34m\u001b[0m\u001b[0;34m\u001b[0m\u001b[0m\n\u001b[0;32m---> 44\u001b[0;31m             \u001b[0mdata\u001b[0m \u001b[0;34m=\u001b[0m \u001b[0;34m[\u001b[0m\u001b[0mself\u001b[0m\u001b[0;34m.\u001b[0m\u001b[0mdataset\u001b[0m\u001b[0;34m[\u001b[0m\u001b[0midx\u001b[0m\u001b[0;34m]\u001b[0m \u001b[0;32mfor\u001b[0m \u001b[0midx\u001b[0m \u001b[0;32min\u001b[0m \u001b[0mpossibly_batched_index\u001b[0m\u001b[0;34m]\u001b[0m\u001b[0;34m\u001b[0m\u001b[0;34m\u001b[0m\u001b[0m\n\u001b[0m\u001b[1;32m     45\u001b[0m         \u001b[0;32melse\u001b[0m\u001b[0;34m:\u001b[0m\u001b[0;34m\u001b[0m\u001b[0;34m\u001b[0m\u001b[0m\n\u001b[1;32m     46\u001b[0m             \u001b[0mdata\u001b[0m \u001b[0;34m=\u001b[0m \u001b[0mself\u001b[0m\u001b[0;34m.\u001b[0m\u001b[0mdataset\u001b[0m\u001b[0;34m[\u001b[0m\u001b[0mpossibly_batched_index\u001b[0m\u001b[0;34m]\u001b[0m\u001b[0;34m\u001b[0m\u001b[0;34m\u001b[0m\u001b[0m\n",
            "\u001b[0;32m/usr/local/lib/python3.7/dist-packages/torch/utils/data/_utils/fetch.py\u001b[0m in \u001b[0;36m<listcomp>\u001b[0;34m(.0)\u001b[0m\n\u001b[1;32m     42\u001b[0m     \u001b[0;32mdef\u001b[0m \u001b[0mfetch\u001b[0m\u001b[0;34m(\u001b[0m\u001b[0mself\u001b[0m\u001b[0;34m,\u001b[0m \u001b[0mpossibly_batched_index\u001b[0m\u001b[0;34m)\u001b[0m\u001b[0;34m:\u001b[0m\u001b[0;34m\u001b[0m\u001b[0;34m\u001b[0m\u001b[0m\n\u001b[1;32m     43\u001b[0m         \u001b[0;32mif\u001b[0m \u001b[0mself\u001b[0m\u001b[0;34m.\u001b[0m\u001b[0mauto_collation\u001b[0m\u001b[0;34m:\u001b[0m\u001b[0;34m\u001b[0m\u001b[0;34m\u001b[0m\u001b[0m\n\u001b[0;32m---> 44\u001b[0;31m             \u001b[0mdata\u001b[0m \u001b[0;34m=\u001b[0m \u001b[0;34m[\u001b[0m\u001b[0mself\u001b[0m\u001b[0;34m.\u001b[0m\u001b[0mdataset\u001b[0m\u001b[0;34m[\u001b[0m\u001b[0midx\u001b[0m\u001b[0;34m]\u001b[0m \u001b[0;32mfor\u001b[0m \u001b[0midx\u001b[0m \u001b[0;32min\u001b[0m \u001b[0mpossibly_batched_index\u001b[0m\u001b[0;34m]\u001b[0m\u001b[0;34m\u001b[0m\u001b[0;34m\u001b[0m\u001b[0m\n\u001b[0m\u001b[1;32m     45\u001b[0m         \u001b[0;32melse\u001b[0m\u001b[0;34m:\u001b[0m\u001b[0;34m\u001b[0m\u001b[0;34m\u001b[0m\u001b[0m\n\u001b[1;32m     46\u001b[0m             \u001b[0mdata\u001b[0m \u001b[0;34m=\u001b[0m \u001b[0mself\u001b[0m\u001b[0;34m.\u001b[0m\u001b[0mdataset\u001b[0m\u001b[0;34m[\u001b[0m\u001b[0mpossibly_batched_index\u001b[0m\u001b[0;34m]\u001b[0m\u001b[0;34m\u001b[0m\u001b[0;34m\u001b[0m\u001b[0m\n",
            "\u001b[0;31mTypeError\u001b[0m: 'PrefetchDataset' object is not subscriptable"
          ]
        }
      ]
    },
    {
      "cell_type": "code",
      "metadata": {
        "id": "R3VE6m-3IJVA"
      },
      "source": [
        ":\n",
        "##########################\n",
        "### MODEL\n",
        "##########################\n",
        "\n",
        "class LeNet5(nn.Module):\n",
        "\n",
        "    def __init__(self, num_classes, grayscale=False):\n",
        "        super(LeNet5, self).__init__()\n",
        "        \n",
        "        self.grayscale = grayscale\n",
        "        self.num_classes = num_classes\n",
        "\n",
        "        if self.grayscale:\n",
        "            in_channels = 1\n",
        "        else:\n",
        "            in_channels = 3\n",
        "\n",
        "        self.features = nn.Sequential(\n",
        "            \n",
        "            nn.Conv2d(in_channels, 6, kernel_size=5),\n",
        "            nn.Tanh(),\n",
        "            nn.MaxPool2d(kernel_size=2),\n",
        "            nn.Conv2d(6, 16, kernel_size=5),\n",
        "            nn.Tanh(),\n",
        "            nn.MaxPool2d(kernel_size=2)\n",
        "        )\n",
        "\n",
        "        self.classifier = nn.Sequential(\n",
        "            nn.Linear(16*5*5, 120),\n",
        "            nn.Tanh(),\n",
        "            nn.Linear(120, 84),\n",
        "            nn.Tanh(),\n",
        "            nn.Linear(84, num_classes),\n",
        "        )\n",
        "\n",
        "\n",
        "    def forward(self, x):\n",
        "        x = self.features(x)\n",
        "        x = torch.flatten(x, 1)\n",
        "        logits = self.classifier(x)\n",
        "        probas = F.softmax(logits, dim=1)\n",
        "        return logits, probas"
      ],
      "execution_count": null,
      "outputs": []
    },
    {
      "cell_type": "code",
      "metadata": {
        "id": "U9t7OTxoFOFB"
      },
      "source": [
        "torch.manual_seed(RANDOM_SEED)\n",
        "\n",
        "model = LeNet5(NUM_CLASSES, GRAYSCALE)\n",
        "model.to(DEVICE)\n",
        "\n",
        "optimizer = torch.optim.Adam(model.parameters(), lr=LEARNING_RATE)"
      ],
      "execution_count": null,
      "outputs": []
    },
    {
      "cell_type": "code",
      "metadata": {
        "id": "IUL6rUhLtba2"
      },
      "source": [
        "########Training##########\n",
        "def compute_accuracy(model, data_loader, device):\n",
        "    correct_pred, num_examples = 0, 0\n",
        "    for i, (features, targets) in enumerate(data_loader):\n",
        "            \n",
        "        features = features.to(device)\n",
        "        targets = targets.to(device)\n",
        "\n",
        "        logits, probas = model(features)\n",
        "        _, predicted_labels = torch.max(probas, 1)\n",
        "        num_examples += targets.size(0)\n",
        "        correct_pred += (predicted_labels == targets).sum()\n",
        "    return correct_pred.float()/num_examples * 100\n",
        "    \n",
        "\n",
        "start_time = time.time()\n",
        "for epoch in range(NUM_EPOCHS):\n",
        "    \n",
        "    model.train()\n",
        "    for batch_idx, (features, targets) in enumerate(train_loader):\n",
        "        \n",
        "        features = features.to(DEVICE)\n",
        "        targets = targets.to(DEVICE)\n",
        "            \n",
        "        ### FORWARD AND BACK PROP\n",
        "        logits, probas = model(features)\n",
        "        cost = F.cross_entropy(logits, targets)\n",
        "        optimizer.zero_grad()\n",
        "        \n",
        "        cost.backward()\n",
        "        \n",
        "        ### UPDATE MODEL PARAMETERS\n",
        "        optimizer.step()\n",
        "        \n",
        "        ### LOGGING\n",
        "        if not batch_idx % 50:\n",
        "            print ('Epoch: %03d/%03d | Batch %04d/%04d | Cost: %.4f' \n",
        "                   %(epoch+1, NUM_EPOCHS, batch_idx, \n",
        "                     len(train_loader), cost))\n",
        "\n",
        "        \n",
        "\n",
        "    model.eval()\n",
        "    with torch.set_grad_enabled(False): # save memory during inference\n",
        "        print('Epoch: %03d/%03d | Train: %.3f%%' % (\n",
        "              epoch+1, NUM_EPOCHS, \n",
        "              compute_accuracy(model, train_loader, device=DEVICE)))\n",
        "        \n",
        "    print('Time elapsed: %.2f min' % ((time.time() - start_time)/60))\n",
        "    \n",
        "print('Total Training Time: %.2f min' % ((time.time() - start_time)/60))"
      ],
      "execution_count": null,
      "outputs": []
    },
    {
      "cell_type": "code",
      "metadata": {
        "id": "dFOtVZ_1tbdz"
      },
      "source": [
        ""
      ],
      "execution_count": null,
      "outputs": []
    },
    {
      "cell_type": "markdown",
      "metadata": {
        "id": "U_aO1VHFVf4j"
      },
      "source": [
        "### Use ResNet from torchvision\n",
        "If you’re new to PyTorch, then you should know that there is an official PyTorch library dedicated for computer vision problems - Torchvision. It provides stable and well tested implementation of various network architectures, including: ResNets in many variants (ResNet-18, ResNet-34, ResNet-51 and so on), ShuffleNets, MobileNets as well as many other ResNet-related ones, that improve the original architecture e.g. ResNeXt.\n",
        "\n",
        "Torchvision also weights for those networks that are trained on ImageNet dataset and are ready to use for transfer learning. In this tutorial, we will be training ResNet-18 from scratch, as digit images from MNIST dataset are really different from the images included in the ImageNet."
      ]
    },
    {
      "cell_type": "code",
      "metadata": {
        "id": "yPL3k95LVe6s"
      },
      "source": [
        "from torchvision.models import resnet18\n",
        "from torch import nn\n",
        "model = resnet18(num_classes=10) # MNIST has 10 classe\n",
        "model"
      ],
      "execution_count": null,
      "outputs": []
    },
    {
      "cell_type": "markdown",
      "metadata": {
        "id": "Jl-L0tFYVq6f"
      },
      "source": [
        "In order to adapt this architecture for MNIST there is one more thing required - input layer needs to accept single channel instead of 3 (MNIST images are single-channel = grayscale, whereas ImageNet are 3-channels = RGB).\n",
        "\n"
      ]
    },
    {
      "cell_type": "code",
      "metadata": {
        "id": "YJiHL9RBVmKe"
      },
      "source": [
        "model.conv1 = ...\n"
      ],
      "execution_count": null,
      "outputs": []
    },
    {
      "cell_type": "markdown",
      "metadata": {
        "id": "GFyh817iY5Cb"
      },
      "source": [
        "#### Complete training and testing similar to the MLP model\n",
        "1. Configure your CNN model, optimizer, and scheduler. \n",
        "2. modify training and testing function \n",
        "3. train the model and test the validation performance each epoch. \n",
        "4. Visualize training process, by training loss and validation accuracy.\n",
        "5. Report averaged loss and accuracy on test set\n",
        "6. Report the class-wise accuracy on test set. "
      ]
    },
    {
      "cell_type": "code",
      "metadata": {
        "id": "uOm6ZapAfJvh"
      },
      "source": [
        ""
      ],
      "execution_count": null,
      "outputs": []
    },
    {
      "cell_type": "markdown",
      "metadata": {
        "id": "PWXaOfmga1Gv"
      },
      "source": [
        "## Part 3: \n",
        "Briefly analyze the performance of 3 models above. "
      ]
    }
  ]
}