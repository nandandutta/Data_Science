{
 "cells": [
  {
   "cell_type": "markdown",
   "metadata": {},
   "source": [
    "# RECOMENDED MOVIES FOR USER USING RECOMENDER SYSTEM"
   ]
  },
  {
   "cell_type": "code",
   "execution_count": 1,
   "metadata": {},
   "outputs": [],
   "source": [
    "import pandas as pd\n",
    "import numpy as np\n",
    "\n",
    "#required libraries for recomender system using surprise package\n",
    "from surprise import KNNWithMeans,Dataset, accuracy,Reader\n",
    "from surprise.model_selection import train_test_split"
   ]
  },
  {
   "cell_type": "code",
   "execution_count": 2,
   "metadata": {},
   "outputs": [
    {
     "data": {
      "text/html": [
       "<div>\n",
       "<style scoped>\n",
       "    .dataframe tbody tr th:only-of-type {\n",
       "        vertical-align: middle;\n",
       "    }\n",
       "\n",
       "    .dataframe tbody tr th {\n",
       "        vertical-align: top;\n",
       "    }\n",
       "\n",
       "    .dataframe thead th {\n",
       "        text-align: right;\n",
       "    }\n",
       "</style>\n",
       "<table border=\"1\" class=\"dataframe\">\n",
       "  <thead>\n",
       "    <tr style=\"text-align: right;\">\n",
       "      <th></th>\n",
       "      <th>userId</th>\n",
       "      <th>movieId</th>\n",
       "      <th>rating</th>\n",
       "      <th>timestamp</th>\n",
       "    </tr>\n",
       "  </thead>\n",
       "  <tbody>\n",
       "    <tr>\n",
       "      <th>0</th>\n",
       "      <td>1</td>\n",
       "      <td>1</td>\n",
       "      <td>4.0</td>\n",
       "      <td>964982703</td>\n",
       "    </tr>\n",
       "    <tr>\n",
       "      <th>1</th>\n",
       "      <td>1</td>\n",
       "      <td>3</td>\n",
       "      <td>4.0</td>\n",
       "      <td>964981247</td>\n",
       "    </tr>\n",
       "    <tr>\n",
       "      <th>2</th>\n",
       "      <td>1</td>\n",
       "      <td>6</td>\n",
       "      <td>4.0</td>\n",
       "      <td>964982224</td>\n",
       "    </tr>\n",
       "    <tr>\n",
       "      <th>3</th>\n",
       "      <td>1</td>\n",
       "      <td>47</td>\n",
       "      <td>5.0</td>\n",
       "      <td>964983815</td>\n",
       "    </tr>\n",
       "    <tr>\n",
       "      <th>4</th>\n",
       "      <td>1</td>\n",
       "      <td>50</td>\n",
       "      <td>5.0</td>\n",
       "      <td>964982931</td>\n",
       "    </tr>\n",
       "  </tbody>\n",
       "</table>\n",
       "</div>"
      ],
      "text/plain": [
       "   userId  movieId  rating  timestamp\n",
       "0       1        1     4.0  964982703\n",
       "1       1        3     4.0  964981247\n",
       "2       1        6     4.0  964982224\n",
       "3       1       47     5.0  964983815\n",
       "4       1       50     5.0  964982931"
      ]
     },
     "execution_count": 2,
     "metadata": {},
     "output_type": "execute_result"
    }
   ],
   "source": [
    "# reading all the required csv file\n",
    "rating = pd.read_csv(\"ratings.csv\")\n",
    "mov = pd.read_csv(\"movies.csv\")\n",
    "link = pd.read_csv(\"links.csv\")\n",
    "tag = pd.read_csv(\"tags.csv\")\n",
    "rating.head()"
   ]
  },
  {
   "cell_type": "code",
   "execution_count": 3,
   "metadata": {},
   "outputs": [
    {
     "data": {
      "text/plain": [
       "((100836, 4), (9742, 3), (9742, 3), (3683, 4))"
      ]
     },
     "execution_count": 3,
     "metadata": {},
     "output_type": "execute_result"
    }
   ],
   "source": [
    "#printing shape of all dataframe\n",
    "rating.shape,mov.shape,link.shape,tag.shape"
   ]
  },
  {
   "cell_type": "code",
   "execution_count": 4,
   "metadata": {},
   "outputs": [
    {
     "data": {
      "text/html": [
       "<div>\n",
       "<style scoped>\n",
       "    .dataframe tbody tr th:only-of-type {\n",
       "        vertical-align: middle;\n",
       "    }\n",
       "\n",
       "    .dataframe tbody tr th {\n",
       "        vertical-align: top;\n",
       "    }\n",
       "\n",
       "    .dataframe thead th {\n",
       "        text-align: right;\n",
       "    }\n",
       "</style>\n",
       "<table border=\"1\" class=\"dataframe\">\n",
       "  <thead>\n",
       "    <tr style=\"text-align: right;\">\n",
       "      <th></th>\n",
       "      <th>movieId</th>\n",
       "      <th>title</th>\n",
       "      <th>genres</th>\n",
       "    </tr>\n",
       "  </thead>\n",
       "  <tbody>\n",
       "    <tr>\n",
       "      <th>0</th>\n",
       "      <td>1</td>\n",
       "      <td>Toy Story (1995)</td>\n",
       "      <td>Adventure|Animation|Children|Comedy|Fantasy</td>\n",
       "    </tr>\n",
       "    <tr>\n",
       "      <th>1</th>\n",
       "      <td>2</td>\n",
       "      <td>Jumanji (1995)</td>\n",
       "      <td>Adventure|Children|Fantasy</td>\n",
       "    </tr>\n",
       "    <tr>\n",
       "      <th>2</th>\n",
       "      <td>3</td>\n",
       "      <td>Grumpier Old Men (1995)</td>\n",
       "      <td>Comedy|Romance</td>\n",
       "    </tr>\n",
       "    <tr>\n",
       "      <th>3</th>\n",
       "      <td>4</td>\n",
       "      <td>Waiting to Exhale (1995)</td>\n",
       "      <td>Comedy|Drama|Romance</td>\n",
       "    </tr>\n",
       "    <tr>\n",
       "      <th>4</th>\n",
       "      <td>5</td>\n",
       "      <td>Father of the Bride Part II (1995)</td>\n",
       "      <td>Comedy</td>\n",
       "    </tr>\n",
       "  </tbody>\n",
       "</table>\n",
       "</div>"
      ],
      "text/plain": [
       "   movieId                               title  \\\n",
       "0        1                    Toy Story (1995)   \n",
       "1        2                      Jumanji (1995)   \n",
       "2        3             Grumpier Old Men (1995)   \n",
       "3        4            Waiting to Exhale (1995)   \n",
       "4        5  Father of the Bride Part II (1995)   \n",
       "\n",
       "                                        genres  \n",
       "0  Adventure|Animation|Children|Comedy|Fantasy  \n",
       "1                   Adventure|Children|Fantasy  \n",
       "2                               Comedy|Romance  \n",
       "3                         Comedy|Drama|Romance  \n",
       "4                                       Comedy  "
      ]
     },
     "execution_count": 4,
     "metadata": {},
     "output_type": "execute_result"
    }
   ],
   "source": [
    "#lets check the head of mov dataframe\n",
    "mov.head()"
   ]
  },
  {
   "cell_type": "code",
   "execution_count": 5,
   "metadata": {},
   "outputs": [],
   "source": [
    "#reader class to mention the rating scale\n",
    "reader = Reader(rating_scale=(1,5))\n",
    "\n",
    "data = Dataset.load_from_df(rating[[\"userId\",\"movieId\",\"rating\"]],reader)"
   ]
  },
  {
   "cell_type": "code",
   "execution_count": 6,
   "metadata": {},
   "outputs": [
    {
     "name": "stdout",
     "output_type": "stream",
     "text": [
      "Computing the msd similarity matrix...\n",
      "Done computing similarity matrix.\n",
      "RMSE: 0.7200\n",
      "RMSE = 0.7199591449817951\n"
     ]
    }
   ],
   "source": [
    "#divide dataset in trainset and test set\n",
    "[trainset,testset] = train_test_split(data,test_size=.15,shuffle=True)\n",
    "\n",
    "recom = KNNWithMeans(k=70, sim_options={\"Name\":\"Cosine\",\"user_based\":True})\n",
    "\n",
    "recom.fit(data.build_full_trainset())\n",
    "\n",
    "test_pred = recom.test(testset)\n",
    "\n",
    "RMSE = accuracy.rmse(test_pred)\n",
    "\n",
    "print(\"RMSE =\",RMSE)"
   ]
  },
  {
   "cell_type": "markdown",
   "metadata": {},
   "source": [
    "### 2.Display predicted rating for a particular userID and MovieID combinations (both taken as keyboard input)"
   ]
  },
  {
   "cell_type": "code",
   "execution_count": 7,
   "metadata": {},
   "outputs": [
    {
     "name": "stdout",
     "output_type": "stream",
     "text": [
      "Enter user ID: 30\n",
      "Enter movie ID: 5\n",
      "The rating value for  userID: 30 and movieID: 5 is : 4.22\n"
     ]
    }
   ],
   "source": [
    "# Display predicted rating for a particular userID and MovieID combinations (both taken as keyboard input)\n",
    "userID = int(input(\"Enter user ID: \"))\n",
    "movieID = int(input(\"Enter movie ID: \"))\n",
    "print(\"The rating value for  userID:\",userID, \"and\", \"movieID:\",movieID, \"is :\",round((recom.predict(userID,movieID)[3]),2))"
   ]
  },
  {
   "cell_type": "markdown",
   "metadata": {},
   "source": [
    "----"
   ]
  },
  {
   "cell_type": "markdown",
   "metadata": {},
   "source": [
    "### 3.\tRecommend a user to watch top 10 movies, which has not watched yet (as per his rating predictions).Take userID as a keyboard input. Fix the threshold rating as 2.5"
   ]
  },
  {
   "cell_type": "code",
   "execution_count": 8,
   "metadata": {},
   "outputs": [
    {
     "name": "stdout",
     "output_type": "stream",
     "text": [
      "Enter the user id:500\n",
      "\n",
      "\n",
      "Sugested 10 movies for user 500 are listed below\n",
      "1 --> On the Beach (1959)\n",
      "2 --> The Big Bus (1976)\n",
      "3 --> Galaxy of Terror (Quest) (1981)\n",
      "4 --> Looker (1981)\n",
      "5 --> Alien Contamination (1980)\n",
      "6 --> Master of the Flying Guillotine (Du bi quan wang da po xue di zi) (1975)\n",
      "7 --> Jetée, La (1962)\n",
      "8 --> Unfaithfully Yours (1948)\n",
      "9 --> Match Factory Girl, The (Tulitikkutehtaan tyttö) (1990)\n",
      "10 --> Strictly Sexual (2008)\n"
     ]
    }
   ],
   "source": [
    "mov_lst = {} #creating empty dictionary to append userid as key and movie id is value\n",
    "user_id = int(input(\"Enter the user id:\"))\n",
    "for mov_id in range(1,193609):\n",
    "    if recom.predict(user_id,mov_id)[3] > 2.5:\n",
    "        mov_lst[mov_id] = recom.predict(user_id,mov_id)[3]\n",
    "\n",
    "# finding 10 highest values in a Dictionary  \n",
    "  \n",
    "from collections import Counter\n",
    "k = Counter(mov_lst)\n",
    "\n",
    "high = k.most_common(10)\n",
    "print(\"\\n\")\n",
    "#printing those 10 recomended movie\n",
    "print(\"Sugested 10 movies for user {0} are listed below\".format(user_id))\n",
    "# suuggesting 10  movies \n",
    "for i in range(10):\n",
    "    print(i+1,\"-->\",list(mov[mov.movieId==high[i][0]][\"title\"])[0])"
   ]
  },
  {
   "cell_type": "markdown",
   "metadata": {},
   "source": [
    "### 4.Display the MovieID, IMDB ID, Average User Rating (excluding predictions), genres and tag of all the movies found in  Step 3 as a data frame"
   ]
  },
  {
   "cell_type": "markdown",
   "metadata": {},
   "source": [
    "---"
   ]
  },
  {
   "cell_type": "markdown",
   "metadata": {},
   "source": [
    "#### Average rating calculation"
   ]
  },
  {
   "cell_type": "code",
   "execution_count": 9,
   "metadata": {},
   "outputs": [],
   "source": [
    "#finding the mean of rating for all movies\n",
    "avg_rating = {}\n",
    "for i in range(1,193609):\n",
    "    if (i==33)|(i==35)|(i==37):#these movieid has no rating at all\n",
    "        pass\n",
    "    else:\n",
    "        avg_rating[i] = round((rating[rating.movieId == i]['rating'].mean()),2)#finding avg rating"
   ]
  },
  {
   "cell_type": "code",
   "execution_count": 10,
   "metadata": {},
   "outputs": [
    {
     "data": {
      "text/html": [
       "<div>\n",
       "<style scoped>\n",
       "    .dataframe tbody tr th:only-of-type {\n",
       "        vertical-align: middle;\n",
       "    }\n",
       "\n",
       "    .dataframe tbody tr th {\n",
       "        vertical-align: top;\n",
       "    }\n",
       "\n",
       "    .dataframe thead th {\n",
       "        text-align: right;\n",
       "    }\n",
       "</style>\n",
       "<table border=\"1\" class=\"dataframe\">\n",
       "  <thead>\n",
       "    <tr style=\"text-align: right;\">\n",
       "      <th></th>\n",
       "      <th>movieId</th>\n",
       "      <th>rating</th>\n",
       "      <th>tag</th>\n",
       "      <th>imdbId</th>\n",
       "      <th>genres</th>\n",
       "    </tr>\n",
       "  </thead>\n",
       "  <tbody>\n",
       "    <tr>\n",
       "      <th>0</th>\n",
       "      <td>1</td>\n",
       "      <td>4.0</td>\n",
       "      <td>pixar</td>\n",
       "      <td>114709</td>\n",
       "      <td>Adventure|Animation|Children|Comedy|Fantasy</td>\n",
       "    </tr>\n",
       "    <tr>\n",
       "      <th>1</th>\n",
       "      <td>1</td>\n",
       "      <td>4.0</td>\n",
       "      <td>pixar</td>\n",
       "      <td>114709</td>\n",
       "      <td>Adventure|Animation|Children|Comedy|Fantasy</td>\n",
       "    </tr>\n",
       "    <tr>\n",
       "      <th>2</th>\n",
       "      <td>1</td>\n",
       "      <td>4.0</td>\n",
       "      <td>fun</td>\n",
       "      <td>114709</td>\n",
       "      <td>Adventure|Animation|Children|Comedy|Fantasy</td>\n",
       "    </tr>\n",
       "    <tr>\n",
       "      <th>3</th>\n",
       "      <td>3</td>\n",
       "      <td>4.0</td>\n",
       "      <td>moldy</td>\n",
       "      <td>113228</td>\n",
       "      <td>Comedy|Romance</td>\n",
       "    </tr>\n",
       "    <tr>\n",
       "      <th>4</th>\n",
       "      <td>3</td>\n",
       "      <td>4.0</td>\n",
       "      <td>old</td>\n",
       "      <td>113228</td>\n",
       "      <td>Comedy|Romance</td>\n",
       "    </tr>\n",
       "  </tbody>\n",
       "</table>\n",
       "</div>"
      ],
      "text/plain": [
       "   movieId  rating    tag  imdbId                                       genres\n",
       "0        1     4.0  pixar  114709  Adventure|Animation|Children|Comedy|Fantasy\n",
       "1        1     4.0  pixar  114709  Adventure|Animation|Children|Comedy|Fantasy\n",
       "2        1     4.0    fun  114709  Adventure|Animation|Children|Comedy|Fantasy\n",
       "3        3     4.0  moldy  113228                               Comedy|Romance\n",
       "4        3     4.0    old  113228                               Comedy|Romance"
      ]
     },
     "execution_count": 10,
     "metadata": {},
     "output_type": "execute_result"
    }
   ],
   "source": [
    "# with the rating dataframe we are joining left join\n",
    "df = pd.merge(rating[[\"movieId\",\"rating\"]],tag[[\"movieId\",\"tag\"]],how=\"left\",on=\"movieId\")\n",
    "\n",
    "df2 = pd.merge(df,link[[\"movieId\",\"imdbId\"]],how=\"left\",on=\"movieId\")\n",
    "df3 = pd.merge(df2,mov[[\"movieId\",\"genres\"]],how=\"left\",on=\"movieId\")\n",
    "df3.head()"
   ]
  },
  {
   "cell_type": "code",
   "execution_count": 51,
   "metadata": {},
   "outputs": [],
   "source": [
    "# printing MovieID, IMDB ID,Average User Rating,genres and tag for all the movies of above userid\n",
    "ls = []\n",
    "for i in range(10):\n",
    "    ls.append(high[i][0])\n",
    "df4 = df3[df3[\"movieId\"].isin(ls)]\n",
    "\n",
    "#dropping rating column and we will replace that with avg_rating\n",
    "df4 = df4.drop(\"rating\",axis=1) #once you drop this column do not run it just comment it"
   ]
  },
  {
   "cell_type": "code",
   "execution_count": 52,
   "metadata": {},
   "outputs": [],
   "source": [
    "avg=[]\n",
    "for i in df4['movieId']:\n",
    "    avg.append(round((rating[rating.movieId == i]['rating'].mean()),2))"
   ]
  },
  {
   "cell_type": "code",
   "execution_count": 55,
   "metadata": {},
   "outputs": [
    {
     "data": {
      "text/html": [
       "<div>\n",
       "<style scoped>\n",
       "    .dataframe tbody tr th:only-of-type {\n",
       "        vertical-align: middle;\n",
       "    }\n",
       "\n",
       "    .dataframe tbody tr th {\n",
       "        vertical-align: top;\n",
       "    }\n",
       "\n",
       "    .dataframe thead th {\n",
       "        text-align: right;\n",
       "    }\n",
       "</style>\n",
       "<table border=\"1\" class=\"dataframe\">\n",
       "  <thead>\n",
       "    <tr style=\"text-align: right;\">\n",
       "      <th></th>\n",
       "      <th>movieId</th>\n",
       "      <th>tag</th>\n",
       "      <th>imdbId</th>\n",
       "      <th>genres</th>\n",
       "      <th>Average _user_rating</th>\n",
       "    </tr>\n",
       "  </thead>\n",
       "  <tbody>\n",
       "    <tr>\n",
       "      <th>904</th>\n",
       "      <td>5746</td>\n",
       "      <td>NaN</td>\n",
       "      <td>82431</td>\n",
       "      <td>Action|Horror|Mystery|Sci-Fi</td>\n",
       "      <td>5.0</td>\n",
       "    </tr>\n",
       "    <tr>\n",
       "      <th>905</th>\n",
       "      <td>5764</td>\n",
       "      <td>NaN</td>\n",
       "      <td>82677</td>\n",
       "      <td>Drama|Horror|Sci-Fi|Thriller</td>\n",
       "      <td>4.5</td>\n",
       "    </tr>\n",
       "    <tr>\n",
       "      <th>908</th>\n",
       "      <td>6835</td>\n",
       "      <td>NaN</td>\n",
       "      <td>82000</td>\n",
       "      <td>Action|Horror|Sci-Fi</td>\n",
       "      <td>5.0</td>\n",
       "    </tr>\n",
       "    <tr>\n",
       "      <th>909</th>\n",
       "      <td>7899</td>\n",
       "      <td>NaN</td>\n",
       "      <td>72913</td>\n",
       "      <td>Action</td>\n",
       "      <td>4.5</td>\n",
       "    </tr>\n",
       "    <tr>\n",
       "      <th>33871</th>\n",
       "      <td>67618</td>\n",
       "      <td>NaN</td>\n",
       "      <td>494277</td>\n",
       "      <td>Comedy|Drama|Romance</td>\n",
       "      <td>5.0</td>\n",
       "    </tr>\n",
       "    <tr>\n",
       "      <th>207339</th>\n",
       "      <td>5490</td>\n",
       "      <td>NaN</td>\n",
       "      <td>74205</td>\n",
       "      <td>Action|Comedy</td>\n",
       "      <td>5.0</td>\n",
       "    </tr>\n",
       "    <tr>\n",
       "      <th>255863</th>\n",
       "      <td>8477</td>\n",
       "      <td>post-apocalyptic</td>\n",
       "      <td>56119</td>\n",
       "      <td>Romance|Sci-Fi</td>\n",
       "      <td>4.5</td>\n",
       "    </tr>\n",
       "    <tr>\n",
       "      <th>255907</th>\n",
       "      <td>40491</td>\n",
       "      <td>depression</td>\n",
       "      <td>98532</td>\n",
       "      <td>Comedy|Drama</td>\n",
       "      <td>5.0</td>\n",
       "    </tr>\n",
       "    <tr>\n",
       "      <th>271220</th>\n",
       "      <td>3379</td>\n",
       "      <td>NaN</td>\n",
       "      <td>53137</td>\n",
       "      <td>Drama</td>\n",
       "      <td>4.5</td>\n",
       "    </tr>\n",
       "    <tr>\n",
       "      <th>272134</th>\n",
       "      <td>8477</td>\n",
       "      <td>post-apocalyptic</td>\n",
       "      <td>56119</td>\n",
       "      <td>Romance|Sci-Fi</td>\n",
       "      <td>4.5</td>\n",
       "    </tr>\n",
       "    <tr>\n",
       "      <th>274789</th>\n",
       "      <td>25947</td>\n",
       "      <td>NaN</td>\n",
       "      <td>40919</td>\n",
       "      <td>Comedy</td>\n",
       "      <td>5.0</td>\n",
       "    </tr>\n",
       "  </tbody>\n",
       "</table>\n",
       "</div>"
      ],
      "text/plain": [
       "        movieId               tag  imdbId                        genres  \\\n",
       "904        5746               NaN   82431  Action|Horror|Mystery|Sci-Fi   \n",
       "905        5764               NaN   82677  Drama|Horror|Sci-Fi|Thriller   \n",
       "908        6835               NaN   82000          Action|Horror|Sci-Fi   \n",
       "909        7899               NaN   72913                        Action   \n",
       "33871     67618               NaN  494277          Comedy|Drama|Romance   \n",
       "207339     5490               NaN   74205                 Action|Comedy   \n",
       "255863     8477  post-apocalyptic   56119                Romance|Sci-Fi   \n",
       "255907    40491        depression   98532                  Comedy|Drama   \n",
       "271220     3379               NaN   53137                         Drama   \n",
       "272134     8477  post-apocalyptic   56119                Romance|Sci-Fi   \n",
       "274789    25947               NaN   40919                        Comedy   \n",
       "\n",
       "        Average _user_rating  \n",
       "904                      5.0  \n",
       "905                      4.5  \n",
       "908                      5.0  \n",
       "909                      4.5  \n",
       "33871                    5.0  \n",
       "207339                   5.0  \n",
       "255863                   4.5  \n",
       "255907                   5.0  \n",
       "271220                   4.5  \n",
       "272134                   4.5  \n",
       "274789                   5.0  "
      ]
     },
     "execution_count": 55,
     "metadata": {},
     "output_type": "execute_result"
    }
   ],
   "source": [
    "#adding a new column Average _user_rating\n",
    "df4['Average _user_rating']=avg\n",
    "df4"
   ]
  }
 ],
 "metadata": {
  "kernelspec": {
   "display_name": "Python 3",
   "language": "python",
   "name": "python3"
  },
  "language_info": {
   "codemirror_mode": {
    "name": "ipython",
    "version": 3
   },
   "file_extension": ".py",
   "mimetype": "text/x-python",
   "name": "python",
   "nbconvert_exporter": "python",
   "pygments_lexer": "ipython3",
   "version": "3.7.3"
  }
 },
 "nbformat": 4,
 "nbformat_minor": 2
}
